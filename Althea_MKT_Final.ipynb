{
 "cells": [
  {
   "attachments": {},
   "cell_type": "markdown",
   "metadata": {},
   "source": [
    "### MKT_Final_project  Middle Eastern Video on Demand"
   ]
  },
  {
   "cell_type": "code",
   "execution_count": 1,
   "metadata": {},
   "outputs": [],
   "source": [
    "import numpy as np\n",
    "import pandas as pd\n",
    "import matplotlib.pyplot as plt"
   ]
  },
  {
   "attachments": {},
   "cell_type": "markdown",
   "metadata": {},
   "source": [
    "#### Data Preprocessing"
   ]
  },
  {
   "cell_type": "code",
   "execution_count": 31,
   "metadata": {},
   "outputs": [
    {
     "data": {
      "text/html": [
       "<div>\n",
       "<style scoped>\n",
       "    .dataframe tbody tr th:only-of-type {\n",
       "        vertical-align: middle;\n",
       "    }\n",
       "\n",
       "    .dataframe tbody tr th {\n",
       "        vertical-align: top;\n",
       "    }\n",
       "\n",
       "    .dataframe thead th {\n",
       "        text-align: right;\n",
       "    }\n",
       "</style>\n",
       "<table border=\"1\" class=\"dataframe\">\n",
       "  <thead>\n",
       "    <tr style=\"text-align: right;\">\n",
       "      <th></th>\n",
       "      <th>subid</th>\n",
       "      <th>package_type</th>\n",
       "      <th>num_weekly_services_utilized</th>\n",
       "      <th>preferred_genre</th>\n",
       "      <th>intended_use</th>\n",
       "      <th>weekly_consumption_hour</th>\n",
       "      <th>num_ideal_streaming_services</th>\n",
       "      <th>age</th>\n",
       "      <th>male_TF</th>\n",
       "      <th>country</th>\n",
       "      <th>...</th>\n",
       "      <th>join_fee</th>\n",
       "      <th>language</th>\n",
       "      <th>payment_type</th>\n",
       "      <th>num_trial_days</th>\n",
       "      <th>current_sub_TF</th>\n",
       "      <th>payment_period</th>\n",
       "      <th>last_payment</th>\n",
       "      <th>next_payment</th>\n",
       "      <th>cancel_date</th>\n",
       "      <th>trial_completed</th>\n",
       "    </tr>\n",
       "  </thead>\n",
       "  <tbody>\n",
       "    <tr>\n",
       "      <th>0</th>\n",
       "      <td>21724479</td>\n",
       "      <td>economy</td>\n",
       "      <td>NaN</td>\n",
       "      <td>comedy</td>\n",
       "      <td>access to exclusive content</td>\n",
       "      <td>NaN</td>\n",
       "      <td>NaN</td>\n",
       "      <td>NaN</td>\n",
       "      <td>False</td>\n",
       "      <td>UAE</td>\n",
       "      <td>...</td>\n",
       "      <td>NaN</td>\n",
       "      <td>ar</td>\n",
       "      <td>Standard Charter</td>\n",
       "      <td>14</td>\n",
       "      <td>True</td>\n",
       "      <td>1</td>\n",
       "      <td>2020/2/7 21:44</td>\n",
       "      <td>2020/6/7 21:44</td>\n",
       "      <td>NaN</td>\n",
       "      <td>True</td>\n",
       "    </tr>\n",
       "    <tr>\n",
       "      <th>1</th>\n",
       "      <td>23383224</td>\n",
       "      <td>base</td>\n",
       "      <td>NaN</td>\n",
       "      <td>comedy</td>\n",
       "      <td>access to exclusive content</td>\n",
       "      <td>22.951579</td>\n",
       "      <td>NaN</td>\n",
       "      <td>70.0</td>\n",
       "      <td>False</td>\n",
       "      <td>UAE</td>\n",
       "      <td>...</td>\n",
       "      <td>0.3303</td>\n",
       "      <td>ar</td>\n",
       "      <td>NaN</td>\n",
       "      <td>14</td>\n",
       "      <td>True</td>\n",
       "      <td>1</td>\n",
       "      <td>2020/3/15 15:44</td>\n",
       "      <td>2020/7/15 15:44</td>\n",
       "      <td>NaN</td>\n",
       "      <td>True</td>\n",
       "    </tr>\n",
       "    <tr>\n",
       "      <th>2</th>\n",
       "      <td>26844789</td>\n",
       "      <td>enhanced</td>\n",
       "      <td>3.0</td>\n",
       "      <td>regional</td>\n",
       "      <td>replace OTT</td>\n",
       "      <td>36.001186</td>\n",
       "      <td>2.0</td>\n",
       "      <td>25.0</td>\n",
       "      <td>True</td>\n",
       "      <td>UAE</td>\n",
       "      <td>...</td>\n",
       "      <td>0.1101</td>\n",
       "      <td>ar</td>\n",
       "      <td>NaN</td>\n",
       "      <td>14</td>\n",
       "      <td>False</td>\n",
       "      <td>0</td>\n",
       "      <td>NaN</td>\n",
       "      <td>NaN</td>\n",
       "      <td>NaN</td>\n",
       "      <td>True</td>\n",
       "    </tr>\n",
       "    <tr>\n",
       "      <th>3</th>\n",
       "      <td>29417030</td>\n",
       "      <td>base</td>\n",
       "      <td>NaN</td>\n",
       "      <td>drama</td>\n",
       "      <td>replace OTT</td>\n",
       "      <td>20.051667</td>\n",
       "      <td>NaN</td>\n",
       "      <td>30.0</td>\n",
       "      <td>False</td>\n",
       "      <td>UAE</td>\n",
       "      <td>...</td>\n",
       "      <td>0.0367</td>\n",
       "      <td>ar</td>\n",
       "      <td>NaN</td>\n",
       "      <td>14</td>\n",
       "      <td>False</td>\n",
       "      <td>0</td>\n",
       "      <td>NaN</td>\n",
       "      <td>NaN</td>\n",
       "      <td>NaN</td>\n",
       "      <td>True</td>\n",
       "    </tr>\n",
       "    <tr>\n",
       "      <th>4</th>\n",
       "      <td>26723159</td>\n",
       "      <td>base</td>\n",
       "      <td>4.0</td>\n",
       "      <td>comedy</td>\n",
       "      <td>replace OTT</td>\n",
       "      <td>22.951579</td>\n",
       "      <td>3.0</td>\n",
       "      <td>28.0</td>\n",
       "      <td>False</td>\n",
       "      <td>UAE</td>\n",
       "      <td>...</td>\n",
       "      <td>0.0367</td>\n",
       "      <td>ar</td>\n",
       "      <td>NaN</td>\n",
       "      <td>14</td>\n",
       "      <td>True</td>\n",
       "      <td>2</td>\n",
       "      <td>2020/2/19 12:57</td>\n",
       "      <td>2020/6/19 12:57</td>\n",
       "      <td>NaN</td>\n",
       "      <td>True</td>\n",
       "    </tr>\n",
       "  </tbody>\n",
       "</table>\n",
       "<p>5 rows × 30 columns</p>\n",
       "</div>"
      ],
      "text/plain": [
       "      subid package_type  num_weekly_services_utilized preferred_genre  \\\n",
       "0  21724479      economy                           NaN          comedy   \n",
       "1  23383224         base                           NaN          comedy   \n",
       "2  26844789     enhanced                           3.0        regional   \n",
       "3  29417030         base                           NaN           drama   \n",
       "4  26723159         base                           4.0          comedy   \n",
       "\n",
       "                  intended_use  weekly_consumption_hour  \\\n",
       "0  access to exclusive content                      NaN   \n",
       "1  access to exclusive content                22.951579   \n",
       "2                  replace OTT                36.001186   \n",
       "3                  replace OTT                20.051667   \n",
       "4                  replace OTT                22.951579   \n",
       "\n",
       "   num_ideal_streaming_services   age male_TF country  ... join_fee language  \\\n",
       "0                           NaN   NaN   False     UAE  ...      NaN       ar   \n",
       "1                           NaN  70.0   False     UAE  ...   0.3303       ar   \n",
       "2                           2.0  25.0    True     UAE  ...   0.1101       ar   \n",
       "3                           NaN  30.0   False     UAE  ...   0.0367       ar   \n",
       "4                           3.0  28.0   False     UAE  ...   0.0367       ar   \n",
       "\n",
       "       payment_type  num_trial_days current_sub_TF  payment_period  \\\n",
       "0  Standard Charter              14           True               1   \n",
       "1               NaN              14           True               1   \n",
       "2               NaN              14          False               0   \n",
       "3               NaN              14          False               0   \n",
       "4               NaN              14           True               2   \n",
       "\n",
       "      last_payment     next_payment cancel_date  trial_completed  \n",
       "0   2020/2/7 21:44   2020/6/7 21:44         NaN             True  \n",
       "1  2020/3/15 15:44  2020/7/15 15:44         NaN             True  \n",
       "2              NaN              NaN         NaN             True  \n",
       "3              NaN              NaN         NaN             True  \n",
       "4  2020/2/19 12:57  2020/6/19 12:57         NaN             True  \n",
       "\n",
       "[5 rows x 30 columns]"
      ]
     },
     "execution_count": 31,
     "metadata": {},
     "output_type": "execute_result"
    }
   ],
   "source": [
    "sub_df = pd.read_csv('Copy_of_subscribers.csv').drop('Unnamed: 0', axis=1)\n",
    "sub_df.head()"
   ]
  },
  {
   "cell_type": "code",
   "execution_count": 45,
   "metadata": {},
   "outputs": [],
   "source": [
    "sub_df['intended_use'].value_counts()\n",
    "#保存在一个表格里\n",
    "sub_df['intended_use'].value_counts().to_csv('intended_use.csv')\n"
   ]
  },
  {
   "cell_type": "code",
   "execution_count": 59,
   "metadata": {},
   "outputs": [
    {
     "data": {
      "text/plain": [
       "0"
      ]
     },
     "execution_count": 59,
     "metadata": {},
     "output_type": "execute_result"
    }
   ],
   "source": [
    "# 去掉sub_df中age里面的nan\n",
    "sub_df = sub_df.dropna(subset=['age'])\n",
    "sub_df['age'].isnull().sum()\n"
   ]
  },
  {
   "cell_type": "code",
   "execution_count": null,
   "metadata": {},
   "outputs": [],
   "source": []
  },
  {
   "cell_type": "code",
   "execution_count": 80,
   "metadata": {},
   "outputs": [
    {
     "data": {
      "image/png": "[encoded data removed]",
      "text/plain": [
       "<Figure size 720x432 with 1 Axes>"
      ]
     },
     "metadata": {
      "needs_background": "light"
     },
     "output_type": "display_data"
    }
   ],
   "source": [
    "#判断年龄中的异常值\n",
    "age2 = sub_df['age'][sub_df['age']<=80]\n",
    "\n",
    "child = sub_df['age'][sub_df['age']<=10]\n",
    "teenager = sub_df['age'][(sub_df['age']>10) & (sub_df['age']<=18)]\n",
    "adult = sub_df['age'][(sub_df['age']>18) & (sub_df['age']<=60)]\n",
    "old = sub_df['age'][(sub_df['age']>60) & (sub_df['age']<=100)]\n",
    "\n",
    "#画图\n",
    "plt.figure(figsize=(10,6))\n",
    "plt.bar(['child','teenager','adult','old'],[len(child),len(teenager),len(adult),len(old)])\n",
    "plt.show()\n",
    "\n",
    "\n",
    "\n"
   ]
  },
  {
   "cell_type": "code",
   "execution_count": 81,
   "metadata": {},
   "outputs": [
    {
     "name": "stdout",
     "output_type": "stream",
     "text": [
      "67\n",
      "1098\n",
      "157902\n",
      "32504\n"
     ]
    }
   ],
   "source": [
    "print(len(child))\n",
    "print(len(teenager))\n",
    "print(len(adult))\n",
    "print(len(old))\n",
    "\n"
   ]
  },
  {
   "cell_type": "code",
   "execution_count": 72,
   "metadata": {},
   "outputs": [
    {
     "data": {
      "image/png": "[encoded data removed]",
      "text/plain": [
       "<Figure size 1080x360 with 1 Axes>"
      ]
     },
     "metadata": {
      "needs_background": "light"
     },
     "output_type": "display_data"
    }
   ],
   "source": [
    "plt.figure(figsize=(15, 5))\n",
    "age2.hist(bins=10, facecolor=\"#a54358\",alpha=0.8)\n",
    "\n",
    "# variantA_base_14['account_creation_date'].hist(bins = 5, facecolor=\"#b08980\",alpha=0.8)\n",
    "plt.title('Pricing Plan Accounts Creation Date',fontsize=14,fontweight='bold')\n",
    "plt.ylabel(\"Number of accounts\",fontsize=14)\n",
    "plt.grid(False)\n",
    "plt.show()"
   ]
  },
  {
   "cell_type": "code",
   "execution_count": 51,
   "metadata": {},
   "outputs": [],
   "source": [
    "#去掉sub_df['age']中的空值\n",
    "sub_df['age'] = sub_df['age'].replace(' ', np.nan)\n",
    "sub_df['age'] = sub_df['age'].dropna()"
   ]
  },
  {
   "cell_type": "code",
   "execution_count": 55,
   "metadata": {},
   "outputs": [
    {
     "data": {
      "text/plain": [
       "numpy.float64"
      ]
     },
     "execution_count": 55,
     "metadata": {},
     "output_type": "execute_result"
    }
   ],
   "source": [
    "type(sub_df['age'][0])"
   ]
  },
  {
   "cell_type": "code",
   "execution_count": 43,
   "metadata": {},
   "outputs": [
    {
     "ename": "IntCastingNaNError",
     "evalue": "Cannot convert non-finite values (NA or inf) to integer",
     "output_type": "error",
     "traceback": [
      "\u001b[0;31m---------------------------------------------------------------------------\u001b[0m",
      "\u001b[0;31mIntCastingNaNError\u001b[0m                        Traceback (most recent call last)",
      "\u001b[1;32m/Users/liujingyun/Desktop/MKT_final/Althea_MKT_Final.ipynb 单元格 6\u001b[0m in \u001b[0;36m<cell line: 1>\u001b[0;34m()\u001b[0m\n\u001b[0;32m----> <a href='vscode-notebook-cell:/Users/liujingyun/Desktop/MKT_final/Althea_MKT_Final.ipynb#Y230sZmlsZQ%3D%3D?line=0'>1</a>\u001b[0m sub_df[\u001b[39m'\u001b[39m\u001b[39mage\u001b[39m\u001b[39m'\u001b[39m] \u001b[39m=\u001b[39m sub_df[\u001b[39m'\u001b[39;49m\u001b[39mage\u001b[39;49m\u001b[39m'\u001b[39;49m]\u001b[39m.\u001b[39;49mastype(\u001b[39mint\u001b[39;49m)\n\u001b[1;32m      <a href='vscode-notebook-cell:/Users/liujingyun/Desktop/MKT_final/Althea_MKT_Final.ipynb#Y230sZmlsZQ%3D%3D?line=1'>2</a>\u001b[0m sub_df[\u001b[39m'\u001b[39m\u001b[39mage\u001b[39m\u001b[39m'\u001b[39m]\u001b[39m.\u001b[39mhead()\n",
      "File \u001b[0;32m~/opt/anaconda3/lib/python3.8/site-packages/pandas/core/generic.py:5912\u001b[0m, in \u001b[0;36mNDFrame.astype\u001b[0;34m(self, dtype, copy, errors)\u001b[0m\n\u001b[1;32m   5905\u001b[0m     results \u001b[39m=\u001b[39m [\n\u001b[1;32m   5906\u001b[0m         \u001b[39mself\u001b[39m\u001b[39m.\u001b[39miloc[:, i]\u001b[39m.\u001b[39mastype(dtype, copy\u001b[39m=\u001b[39mcopy)\n\u001b[1;32m   5907\u001b[0m         \u001b[39mfor\u001b[39;00m i \u001b[39min\u001b[39;00m \u001b[39mrange\u001b[39m(\u001b[39mlen\u001b[39m(\u001b[39mself\u001b[39m\u001b[39m.\u001b[39mcolumns))\n\u001b[1;32m   5908\u001b[0m     ]\n\u001b[1;32m   5910\u001b[0m \u001b[39melse\u001b[39;00m:\n\u001b[1;32m   5911\u001b[0m     \u001b[39m# else, only a single dtype is given\u001b[39;00m\n\u001b[0;32m-> 5912\u001b[0m     new_data \u001b[39m=\u001b[39m \u001b[39mself\u001b[39;49m\u001b[39m.\u001b[39;49m_mgr\u001b[39m.\u001b[39;49mastype(dtype\u001b[39m=\u001b[39;49mdtype, copy\u001b[39m=\u001b[39;49mcopy, errors\u001b[39m=\u001b[39;49merrors)\n\u001b[1;32m   5913\u001b[0m     \u001b[39mreturn\u001b[39;00m \u001b[39mself\u001b[39m\u001b[39m.\u001b[39m_constructor(new_data)\u001b[39m.\u001b[39m__finalize__(\u001b[39mself\u001b[39m, method\u001b[39m=\u001b[39m\u001b[39m\"\u001b[39m\u001b[39mastype\u001b[39m\u001b[39m\"\u001b[39m)\n\u001b[1;32m   5915\u001b[0m \u001b[39m# GH 33113: handle empty frame or series\u001b[39;00m\n",
      "File \u001b[0;32m~/opt/anaconda3/lib/python3.8/site-packages/pandas/core/internals/managers.py:419\u001b[0m, in \u001b[0;36mBaseBlockManager.astype\u001b[0;34m(self, dtype, copy, errors)\u001b[0m\n\u001b[1;32m    418\u001b[0m \u001b[39mdef\u001b[39;00m \u001b[39mastype\u001b[39m(\u001b[39mself\u001b[39m: T, dtype, copy: \u001b[39mbool\u001b[39m \u001b[39m=\u001b[39m \u001b[39mFalse\u001b[39;00m, errors: \u001b[39mstr\u001b[39m \u001b[39m=\u001b[39m \u001b[39m\"\u001b[39m\u001b[39mraise\u001b[39m\u001b[39m\"\u001b[39m) \u001b[39m-\u001b[39m\u001b[39m>\u001b[39m T:\n\u001b[0;32m--> 419\u001b[0m     \u001b[39mreturn\u001b[39;00m \u001b[39mself\u001b[39;49m\u001b[39m.\u001b[39;49mapply(\u001b[39m\"\u001b[39;49m\u001b[39mastype\u001b[39;49m\u001b[39m\"\u001b[39;49m, dtype\u001b[39m=\u001b[39;49mdtype, copy\u001b[39m=\u001b[39;49mcopy, errors\u001b[39m=\u001b[39;49merrors)\n",
      "File \u001b[0;32m~/opt/anaconda3/lib/python3.8/site-packages/pandas/core/internals/managers.py:304\u001b[0m, in \u001b[0;36mBaseBlockManager.apply\u001b[0;34m(self, f, align_keys, ignore_failures, **kwargs)\u001b[0m\n\u001b[1;32m    302\u001b[0m         applied \u001b[39m=\u001b[39m b\u001b[39m.\u001b[39mapply(f, \u001b[39m*\u001b[39m\u001b[39m*\u001b[39mkwargs)\n\u001b[1;32m    303\u001b[0m     \u001b[39melse\u001b[39;00m:\n\u001b[0;32m--> 304\u001b[0m         applied \u001b[39m=\u001b[39m \u001b[39mgetattr\u001b[39;49m(b, f)(\u001b[39m*\u001b[39;49m\u001b[39m*\u001b[39;49mkwargs)\n\u001b[1;32m    305\u001b[0m \u001b[39mexcept\u001b[39;00m (\u001b[39mTypeError\u001b[39;00m, \u001b[39mNotImplementedError\u001b[39;00m):\n\u001b[1;32m    306\u001b[0m     \u001b[39mif\u001b[39;00m \u001b[39mnot\u001b[39;00m ignore_failures:\n",
      "File \u001b[0;32m~/opt/anaconda3/lib/python3.8/site-packages/pandas/core/internals/blocks.py:580\u001b[0m, in \u001b[0;36mBlock.astype\u001b[0;34m(self, dtype, copy, errors)\u001b[0m\n\u001b[1;32m    562\u001b[0m \u001b[39m\"\"\"\u001b[39;00m\n\u001b[1;32m    563\u001b[0m \u001b[39mCoerce to the new dtype.\u001b[39;00m\n\u001b[1;32m    564\u001b[0m \n\u001b[0;32m   (...)\u001b[0m\n\u001b[1;32m    576\u001b[0m \u001b[39mBlock\u001b[39;00m\n\u001b[1;32m    577\u001b[0m \u001b[39m\"\"\"\u001b[39;00m\n\u001b[1;32m    578\u001b[0m values \u001b[39m=\u001b[39m \u001b[39mself\u001b[39m\u001b[39m.\u001b[39mvalues\n\u001b[0;32m--> 580\u001b[0m new_values \u001b[39m=\u001b[39m astype_array_safe(values, dtype, copy\u001b[39m=\u001b[39;49mcopy, errors\u001b[39m=\u001b[39;49merrors)\n\u001b[1;32m    582\u001b[0m new_values \u001b[39m=\u001b[39m maybe_coerce_values(new_values)\n\u001b[1;32m    583\u001b[0m newb \u001b[39m=\u001b[39m \u001b[39mself\u001b[39m\u001b[39m.\u001b[39mmake_block(new_values)\n",
      "File \u001b[0;32m~/opt/anaconda3/lib/python3.8/site-packages/pandas/core/dtypes/cast.py:1292\u001b[0m, in \u001b[0;36mastype_array_safe\u001b[0;34m(values, dtype, copy, errors)\u001b[0m\n\u001b[1;32m   1289\u001b[0m     dtype \u001b[39m=\u001b[39m dtype\u001b[39m.\u001b[39mnumpy_dtype\n\u001b[1;32m   1291\u001b[0m \u001b[39mtry\u001b[39;00m:\n\u001b[0;32m-> 1292\u001b[0m     new_values \u001b[39m=\u001b[39m astype_array(values, dtype, copy\u001b[39m=\u001b[39;49mcopy)\n\u001b[1;32m   1293\u001b[0m \u001b[39mexcept\u001b[39;00m (\u001b[39mValueError\u001b[39;00m, \u001b[39mTypeError\u001b[39;00m):\n\u001b[1;32m   1294\u001b[0m     \u001b[39m# e.g. astype_nansafe can fail on object-dtype of strings\u001b[39;00m\n\u001b[1;32m   1295\u001b[0m     \u001b[39m#  trying to convert to float\u001b[39;00m\n\u001b[1;32m   1296\u001b[0m     \u001b[39mif\u001b[39;00m errors \u001b[39m==\u001b[39m \u001b[39m\"\u001b[39m\u001b[39mignore\u001b[39m\u001b[39m\"\u001b[39m:\n",
      "File \u001b[0;32m~/opt/anaconda3/lib/python3.8/site-packages/pandas/core/dtypes/cast.py:1237\u001b[0m, in \u001b[0;36mastype_array\u001b[0;34m(values, dtype, copy)\u001b[0m\n\u001b[1;32m   1234\u001b[0m     values \u001b[39m=\u001b[39m values\u001b[39m.\u001b[39mastype(dtype, copy\u001b[39m=\u001b[39mcopy)\n\u001b[1;32m   1236\u001b[0m \u001b[39melse\u001b[39;00m:\n\u001b[0;32m-> 1237\u001b[0m     values \u001b[39m=\u001b[39m astype_nansafe(values, dtype, copy\u001b[39m=\u001b[39;49mcopy)\n\u001b[1;32m   1239\u001b[0m \u001b[39m# in pandas we don't store numpy str dtypes, so convert to object\u001b[39;00m\n\u001b[1;32m   1240\u001b[0m \u001b[39mif\u001b[39;00m \u001b[39misinstance\u001b[39m(dtype, np\u001b[39m.\u001b[39mdtype) \u001b[39mand\u001b[39;00m \u001b[39missubclass\u001b[39m(values\u001b[39m.\u001b[39mdtype\u001b[39m.\u001b[39mtype, \u001b[39mstr\u001b[39m):\n",
      "File \u001b[0;32m~/opt/anaconda3/lib/python3.8/site-packages/pandas/core/dtypes/cast.py:1148\u001b[0m, in \u001b[0;36mastype_nansafe\u001b[0;34m(arr, dtype, copy, skipna)\u001b[0m\n\u001b[1;32m   1145\u001b[0m     \u001b[39mraise\u001b[39;00m \u001b[39mTypeError\u001b[39;00m(\u001b[39mf\u001b[39m\u001b[39m\"\u001b[39m\u001b[39mcannot astype a timedelta from [\u001b[39m\u001b[39m{\u001b[39;00marr\u001b[39m.\u001b[39mdtype\u001b[39m}\u001b[39;00m\u001b[39m] to [\u001b[39m\u001b[39m{\u001b[39;00mdtype\u001b[39m}\u001b[39;00m\u001b[39m]\u001b[39m\u001b[39m\"\u001b[39m)\n\u001b[1;32m   1147\u001b[0m \u001b[39melif\u001b[39;00m np\u001b[39m.\u001b[39missubdtype(arr\u001b[39m.\u001b[39mdtype, np\u001b[39m.\u001b[39mfloating) \u001b[39mand\u001b[39;00m np\u001b[39m.\u001b[39missubdtype(dtype, np\u001b[39m.\u001b[39minteger):\n\u001b[0;32m-> 1148\u001b[0m     \u001b[39mreturn\u001b[39;00m astype_float_to_int_nansafe(arr, dtype, copy)\n\u001b[1;32m   1150\u001b[0m \u001b[39melif\u001b[39;00m is_object_dtype(arr\u001b[39m.\u001b[39mdtype):\n\u001b[1;32m   1151\u001b[0m \n\u001b[1;32m   1152\u001b[0m     \u001b[39m# work around NumPy brokenness, #1987\u001b[39;00m\n\u001b[1;32m   1153\u001b[0m     \u001b[39mif\u001b[39;00m np\u001b[39m.\u001b[39missubdtype(dtype\u001b[39m.\u001b[39mtype, np\u001b[39m.\u001b[39minteger):\n",
      "File \u001b[0;32m~/opt/anaconda3/lib/python3.8/site-packages/pandas/core/dtypes/cast.py:1193\u001b[0m, in \u001b[0;36mastype_float_to_int_nansafe\u001b[0;34m(values, dtype, copy)\u001b[0m\n\u001b[1;32m   1189\u001b[0m \u001b[39m\"\"\"\u001b[39;00m\n\u001b[1;32m   1190\u001b[0m \u001b[39mastype with a check preventing converting NaN to an meaningless integer value.\u001b[39;00m\n\u001b[1;32m   1191\u001b[0m \u001b[39m\"\"\"\u001b[39;00m\n\u001b[1;32m   1192\u001b[0m \u001b[39mif\u001b[39;00m \u001b[39mnot\u001b[39;00m np\u001b[39m.\u001b[39misfinite(values)\u001b[39m.\u001b[39mall():\n\u001b[0;32m-> 1193\u001b[0m     \u001b[39mraise\u001b[39;00m IntCastingNaNError(\n\u001b[1;32m   1194\u001b[0m         \u001b[39m\"\u001b[39m\u001b[39mCannot convert non-finite values (NA or inf) to integer\u001b[39m\u001b[39m\"\u001b[39m\n\u001b[1;32m   1195\u001b[0m     )\n\u001b[1;32m   1196\u001b[0m \u001b[39mreturn\u001b[39;00m values\u001b[39m.\u001b[39mastype(dtype, copy\u001b[39m=\u001b[39mcopy)\n",
      "\u001b[0;31mIntCastingNaNError\u001b[0m: Cannot convert non-finite values (NA or inf) to integer"
     ]
    }
   ],
   "source": [
    "\n",
    "sub_df['age'] = sub_df['age'].astype(int)\n",
    "sub_df['age'].head()"
   ]
  },
  {
   "cell_type": "code",
   "execution_count": 62,
   "metadata": {},
   "outputs": [
    {
     "data": {
      "text/plain": [
       "Index(['subid', 'package_type', 'num_weekly_services_utilized',\n",
       "       'preferred_genre', 'intended_use', 'weekly_consumption_hour',\n",
       "       'num_ideal_streaming_services', 'age', 'male_TF', 'country',\n",
       "       'attribution_technical', 'attribution_survey', 'op_sys',\n",
       "       'months_per_bill_period', 'plan_type', 'monthly_price',\n",
       "       'discount_price', 'account_creation_date', 'trial_end_date',\n",
       "       'initial_credit_card_declined', 'join_fee', 'language', 'payment_type',\n",
       "       'num_trial_days', 'conversion', 'payment_period', 'last_payment',\n",
       "       'next_payment', 'cancel_date', 'trial_completed', 'conversion_result'],\n",
       "      dtype='object')"
      ]
     },
     "execution_count": 62,
     "metadata": {},
     "output_type": "execute_result"
    }
   ],
   "source": [
    "sub_df.columns"
   ]
  },
  {
   "attachments": {},
   "cell_type": "markdown",
   "metadata": {},
   "source": [
    "### AB Testing"
   ]
  },
  {
   "cell_type": "code",
   "execution_count": 6,
   "metadata": {},
   "outputs": [
    {
     "data": {
      "text/plain": [
       "True     130250\n",
       "False     97378\n",
       "Name: current_sub_TF, dtype: int64"
      ]
     },
     "execution_count": 6,
     "metadata": {},
     "output_type": "execute_result"
    }
   ],
   "source": [
    "sub_df['current_sub_TF'].value_counts()"
   ]
  },
  {
   "cell_type": "code",
   "execution_count": 152,
   "metadata": {},
   "outputs": [
    {
     "data": {
      "text/plain": [
       "True     130250\n",
       "False     97378\n",
       "Name: conversion, dtype: int64"
      ]
     },
     "execution_count": 152,
     "metadata": {},
     "output_type": "execute_result"
    }
   ],
   "source": [
    "sub_df.rename(columns={'current_sub_TF':'conversion'}, inplace=True)\n",
    "sub_df['conversion'].value_counts()"
   ]
  },
  {
   "cell_type": "code",
   "execution_count": 9,
   "metadata": {},
   "outputs": [
    {
     "data": {
      "text/plain": [
       "base_uae_14_day_trial                227096\n",
       "high_uae_14_day_trial                   325\n",
       "low_uae_no_trial                        167\n",
       "base_eur_14_day_trial                    18\n",
       "high_sar_14_day_trial                    12\n",
       "low_gbp_14_day_trial                      4\n",
       "high_aud_14_day_trial                     2\n",
       "low_eur_no_trial                          1\n",
       "base_uae_no_trial_7_day_guarantee         1\n",
       "low_sar_no_trial                          1\n",
       "high_jpy_14_day_trial                     1\n",
       "Name: plan_type, dtype: int64"
      ]
     },
     "execution_count": 9,
     "metadata": {},
     "output_type": "execute_result"
    }
   ],
   "source": [
    "sub_df['plan_type'].value_counts()"
   ]
  },
  {
   "cell_type": "code",
   "execution_count": 10,
   "metadata": {},
   "outputs": [
    {
     "data": {
      "text/plain": [
       "UAE    227628\n",
       "Name: country, dtype: int64"
      ]
     },
     "execution_count": 10,
     "metadata": {},
     "output_type": "execute_result"
    }
   ],
   "source": [
    "sub_df['country'].value_counts()"
   ]
  },
  {
   "cell_type": "code",
   "execution_count": 46,
   "metadata": {},
   "outputs": [],
   "source": [
    "def conversion (row):\n",
    "    if row['conversion'] == True and row['plan_type'] == 'base_uae_14_day_trial' :\n",
    "        return \"base_convert\"\n",
    "    if row['conversion'] == True and row['plan_type'] == 'high_uae_14_day_trial' :\n",
    "        return \"high_convert\"\n",
    "    if row['conversion'] == True and row['plan_type'] == 'low_uae_no_trial' :\n",
    "        return \"low_convert\""
   ]
  },
  {
   "cell_type": "code",
   "execution_count": 47,
   "metadata": {},
   "outputs": [
    {
     "data": {
      "text/plain": [
       "base_convert    130009\n",
       "high_convert       179\n",
       "low_convert         45\n",
       "Name: conversion_result, dtype: int64"
      ]
     },
     "execution_count": 47,
     "metadata": {},
     "output_type": "execute_result"
    }
   ],
   "source": [
    "sub_df['conversion_result'] = sub_df.apply (lambda row: conversion (row),axis=1)\n",
    "sub_df['conversion_result'].value_counts()"
   ]
  },
  {
   "cell_type": "code",
   "execution_count": 4,
   "metadata": {},
   "outputs": [
    {
     "data": {
      "text/plain": [
       "0          2020/1/24 21:44\n",
       "1           2020/3/1 15:44\n",
       "2          2019/12/7 16:37\n",
       "3          2020/1/27 16:09\n",
       "4          2019/10/5 12:57\n",
       "                ...       \n",
       "227623    2019/11/17 14:12\n",
       "227624     2019/12/6 18:02\n",
       "227625    2019/12/21 19:40\n",
       "227626     2020/1/17 23:58\n",
       "227627    2019/11/26 19:09\n",
       "Name: account_creation_date, Length: 227096, dtype: object"
      ]
     },
     "execution_count": 4,
     "metadata": {},
     "output_type": "execute_result"
    }
   ],
   "source": [
    "variantA_base_14['account_creation_date']"
   ]
  },
  {
   "cell_type": "code",
   "execution_count": 30,
   "metadata": {},
   "outputs": [
    {
     "data": {
      "text/plain": [
       "False    200902\n",
       "True      26457\n",
       "Name: male_TF, dtype: int64"
      ]
     },
     "execution_count": 30,
     "metadata": {},
     "output_type": "execute_result"
    }
   ],
   "source": [
    "sub_df['male_TF'].value_counts()\n",
    "\n",
    "\n"
   ]
  },
  {
   "cell_type": "code",
   "execution_count": 23,
   "metadata": {},
   "outputs": [
    {
     "name": "stderr",
     "output_type": "stream",
     "text": [
      "/var/folders/xc/wrkdv3595mq6x6b_yvs2v83c0000gn/T/ipykernel_60905/224720746.py:2: SettingWithCopyWarning: \n",
      "A value is trying to be set on a copy of a slice from a DataFrame.\n",
      "Try using .loc[row_indexer,col_indexer] = value instead\n",
      "\n",
      "See the caveats in the documentation: https://pandas.pydata.org/pandas-docs/stable/user_guide/indexing.html#returning-a-view-versus-a-copy\n",
      "  variantA_base_14['account_creation_date'] = pd.to_datetime(variantA_base_14['account_creation_date'])\n"
     ]
    },
    {
     "data": {
      "image/png": "[encoded data removed]",
      "text/plain": [
       "<Figure size 1080x360 with 1 Axes>"
      ]
     },
     "metadata": {
      "needs_background": "light"
     },
     "output_type": "display_data"
    }
   ],
   "source": [
    "variantA_base_14 = sub_df[sub_df['plan_type'] == 'base_uae_14_day_trial']\n",
    "variantA_base_14['account_creation_date'] = pd.to_datetime(variantA_base_14['account_creation_date'])\n",
    "plt.figure(figsize=(15, 5))\n",
    "variantA_base_14['account_creation_date'].hist(bins=40, facecolor=\"#a54358\",alpha=0.8)\n",
    "\n",
    "# variantA_base_14['account_creation_date'].hist(bins = 5, facecolor=\"#b08980\",alpha=0.8)\n",
    "plt.title('Pricing Plan Accounts Creation Date',fontsize=14,fontweight='bold')\n",
    "plt.ylabel(\"Number of accounts\",fontsize=14)\n",
    "plt.grid(False)\n",
    "plt.show()\n",
    "\n",
    "\n"
   ]
  },
  {
   "cell_type": "code",
   "execution_count": 10,
   "metadata": {},
   "outputs": [
    {
     "data": {
      "image/png": "[encoded data removed]",
      "text/plain": [
       "<Figure size 1440x360 with 1 Axes>"
      ]
     },
     "metadata": {
      "needs_background": "light"
     },
     "output_type": "display_data"
    }
   ],
   "source": [
    "# ALL DATA\n",
    "# variantA_base_14 = sub_df.loc[sub_df['plan_type'] == 'base_uae_14_day_trial', ['account_creation_date','current_sub_TF']]\n",
    "variantB_low_0 = sub_df.loc[sub_df['plan_type'] == 'low_uae_no_trial', ['account_creation_date','current_sub_TF']]\n",
    "# variantC_high_14 = sub_df.loc[sub_df['plan_type'] == 'high_uae_14_day_trial', ['account_creation_date','current_sub_TF']]\n",
    "\n",
    "# plt.figure(figsize=(20, 5))\n",
    "# variantA_base_14['account_creation_date'].hist(bins = 5, facecolor=\"#b08980\",alpha=0.8)\n",
    "# plt.title('All Base Pricing Plan Accounts Creation Date',fontsize=14)\n",
    "# plt.ylabel(\"Number of base accounts\",fontsize=14)\n",
    "# plt.show()\n",
    "\n",
    "plt.figure(figsize=(20, 5))\n",
    "variantB_low_0['account_creation_date'].hist(bins = 100,facecolor=\"#5f4933\",alpha=0.7)\n",
    "plt.title('All Low Pricing Plan Accounts Creation Date',fontsize=14)\n",
    "plt.ylabel(\"Number of low  pricing accounts\",fontsize=14)\n",
    "plt.show()\n",
    "\n",
    "# plt.figure(figsize=(20, 5))\n",
    "# variantC_high_14['account_creation_date'].hist(facecolor=\"#382914\",alpha=0.7)\n",
    "# plt.title('All High Pricing Plan Accounts Creation Date',fontsize=14)\n",
    "# plt.ylabel(\"Number of high pricing accounts\",fontsize=14)\n",
    "# plt.show()"
   ]
  },
  {
   "cell_type": "code",
   "execution_count": 6,
   "metadata": {},
   "outputs": [
    {
     "data": {
      "text/html": [
       "<div>\n",
       "<style scoped>\n",
       "    .dataframe tbody tr th:only-of-type {\n",
       "        vertical-align: middle;\n",
       "    }\n",
       "\n",
       "    .dataframe tbody tr th {\n",
       "        vertical-align: top;\n",
       "    }\n",
       "\n",
       "    .dataframe thead th {\n",
       "        text-align: right;\n",
       "    }\n",
       "</style>\n",
       "<table border=\"1\" class=\"dataframe\">\n",
       "  <thead>\n",
       "    <tr style=\"text-align: right;\">\n",
       "      <th></th>\n",
       "      <th>account_creation_date</th>\n",
       "      <th>current_sub_TF</th>\n",
       "    </tr>\n",
       "  </thead>\n",
       "  <tbody>\n",
       "    <tr>\n",
       "      <th>322</th>\n",
       "      <td>2019/7/24 23:20</td>\n",
       "      <td>True</td>\n",
       "    </tr>\n",
       "    <tr>\n",
       "      <th>553</th>\n",
       "      <td>2019/7/27 19:57</td>\n",
       "      <td>False</td>\n",
       "    </tr>\n",
       "    <tr>\n",
       "      <th>5912</th>\n",
       "      <td>2019/7/28 05:46</td>\n",
       "      <td>True</td>\n",
       "    </tr>\n",
       "    <tr>\n",
       "      <th>5958</th>\n",
       "      <td>2019/7/25 00:37</td>\n",
       "      <td>False</td>\n",
       "    </tr>\n",
       "    <tr>\n",
       "      <th>7164</th>\n",
       "      <td>2019/7/26 13:28</td>\n",
       "      <td>True</td>\n",
       "    </tr>\n",
       "    <tr>\n",
       "      <th>...</th>\n",
       "      <td>...</td>\n",
       "      <td>...</td>\n",
       "    </tr>\n",
       "    <tr>\n",
       "      <th>218932</th>\n",
       "      <td>2019/7/24 05:31</td>\n",
       "      <td>True</td>\n",
       "    </tr>\n",
       "    <tr>\n",
       "      <th>219037</th>\n",
       "      <td>2019/7/25 02:37</td>\n",
       "      <td>False</td>\n",
       "    </tr>\n",
       "    <tr>\n",
       "      <th>219516</th>\n",
       "      <td>2019/7/25 16:19</td>\n",
       "      <td>False</td>\n",
       "    </tr>\n",
       "    <tr>\n",
       "      <th>225582</th>\n",
       "      <td>2019/7/25 20:53</td>\n",
       "      <td>False</td>\n",
       "    </tr>\n",
       "    <tr>\n",
       "      <th>227194</th>\n",
       "      <td>2019/7/25 12:33</td>\n",
       "      <td>False</td>\n",
       "    </tr>\n",
       "  </tbody>\n",
       "</table>\n",
       "<p>167 rows × 2 columns</p>\n",
       "</div>"
      ],
      "text/plain": [
       "       account_creation_date  current_sub_TF\n",
       "322          2019/7/24 23:20            True\n",
       "553          2019/7/27 19:57           False\n",
       "5912         2019/7/28 05:46            True\n",
       "5958         2019/7/25 00:37           False\n",
       "7164         2019/7/26 13:28            True\n",
       "...                      ...             ...\n",
       "218932       2019/7/24 05:31            True\n",
       "219037       2019/7/25 02:37           False\n",
       "219516       2019/7/25 16:19           False\n",
       "225582       2019/7/25 20:53           False\n",
       "227194       2019/7/25 12:33           False\n",
       "\n",
       "[167 rows x 2 columns]"
      ]
     },
     "execution_count": 6,
     "metadata": {},
     "output_type": "execute_result"
    }
   ],
   "source": [
    "variantB_low_0"
   ]
  },
  {
   "attachments": {},
   "cell_type": "markdown",
   "metadata": {},
   "source": [
    "##### H_0: P_hat = P\n",
    "##### H_1: P_har > P"
   ]
  },
  {
   "cell_type": "code",
   "execution_count": 26,
   "metadata": {},
   "outputs": [
    {
     "data": {
      "image/png": "[encoded data removed]",
      "text/plain": [
       "<IPython.core.display.Image object>"
      ]
     },
     "execution_count": 26,
     "metadata": {},
     "output_type": "execute_result"
    }
   ],
   "source": [
    "from IPython.display import Image\n",
    "Image(filename='test.png')"
   ]
  },
  {
   "cell_type": "code",
   "execution_count": 25,
   "metadata": {},
   "outputs": [
    {
     "data": {
      "image/png": "[encoded data removed]",
      "text/plain": [
       "<IPython.core.display.Image object>"
      ]
     },
     "execution_count": 25,
     "metadata": {},
     "output_type": "execute_result"
    }
   ],
   "source": [
    "Image(filename='z.png')"
   ]
  },
  {
   "attachments": {},
   "cell_type": "markdown",
   "metadata": {},
   "source": [
    "##### test high and base"
   ]
  },
  {
   "cell_type": "code",
   "execution_count": 48,
   "metadata": {},
   "outputs": [
    {
     "data": {
      "text/plain": [
       "-0.7913241440560812"
      ]
     },
     "execution_count": 48,
     "metadata": {},
     "output_type": "execute_result"
    }
   ],
   "source": [
    "high_p = 130009 / 227096\n",
    "high_p_hat = 179 / 325\n",
    "sigma = ((high_p*(1-high_p)/325))**0.5\n",
    "high_z_score = (high_p_hat-high_p)/sigma\n",
    "high_z_score"
   ]
  },
  {
   "cell_type": "code",
   "execution_count": 85,
   "metadata": {},
   "outputs": [
    {
     "data": {
      "text/plain": [
       "0.7856225686281071"
      ]
     },
     "execution_count": 85,
     "metadata": {},
     "output_type": "execute_result"
    }
   ],
   "source": [
    "high_p_value = norm.sf(high_z_score)\n",
    "high_p_value"
   ]
  },
  {
   "attachments": {},
   "cell_type": "markdown",
   "metadata": {},
   "source": [
    "##### test low and base"
   ]
  },
  {
   "cell_type": "code",
   "execution_count": 51,
   "metadata": {},
   "outputs": [
    {
     "data": {
      "text/plain": [
       "-7.915476206594785"
      ]
     },
     "execution_count": 51,
     "metadata": {},
     "output_type": "execute_result"
    }
   ],
   "source": [
    "low_p = 130009 / 227096\n",
    "low_p_hat = 45 / 167\n",
    "sigma = ((low_p*(1-low_p)/167))**0.5\n",
    "low_z_score = (low_p_hat-low_p)/sigma\n",
    "low_z_score"
   ]
  },
  {
   "cell_type": "code",
   "execution_count": 87,
   "metadata": {},
   "outputs": [
    {
     "data": {
      "text/plain": [
       "1.2315424938642588e-15"
      ]
     },
     "execution_count": 87,
     "metadata": {},
     "output_type": "execute_result"
    }
   ],
   "source": [
    "low_p_value = norm.sf(abs(low_z_score))\n",
    "low_p_value"
   ]
  },
  {
   "cell_type": "code",
   "execution_count": 88,
   "metadata": {},
   "outputs": [
    {
     "data": {
      "text/plain": [
       "0.9999999999999988"
      ]
     },
     "execution_count": 88,
     "metadata": {},
     "output_type": "execute_result"
    }
   ],
   "source": [
    "norm().sf((low_p_hat-low_p)/np.sqrt((low_p*(1-low_p)/167)))"
   ]
  },
  {
   "attachments": {},
   "cell_type": "markdown",
   "metadata": {},
   "source": [
    "### Allocation and Attribution"
   ]
  },
  {
   "cell_type": "code",
   "execution_count": 99,
   "metadata": {},
   "outputs": [
    {
     "data": {
      "text/html": [
       "<div>\n",
       "<style scoped>\n",
       "    .dataframe tbody tr th:only-of-type {\n",
       "        vertical-align: middle;\n",
       "    }\n",
       "\n",
       "    .dataframe tbody tr th {\n",
       "        vertical-align: top;\n",
       "    }\n",
       "\n",
       "    .dataframe thead th {\n",
       "        text-align: right;\n",
       "    }\n",
       "</style>\n",
       "<table border=\"1\" class=\"dataframe\">\n",
       "  <thead>\n",
       "    <tr style=\"text-align: right;\">\n",
       "      <th></th>\n",
       "      <th>channel</th>\n",
       "      <th>date</th>\n",
       "      <th>spend_AED</th>\n",
       "    </tr>\n",
       "  </thead>\n",
       "  <tbody>\n",
       "    <tr>\n",
       "      <th>0</th>\n",
       "      <td>bing</td>\n",
       "      <td>201907</td>\n",
       "      <td>400</td>\n",
       "    </tr>\n",
       "    <tr>\n",
       "      <th>1</th>\n",
       "      <td>display</td>\n",
       "      <td>201907</td>\n",
       "      <td>12</td>\n",
       "    </tr>\n",
       "    <tr>\n",
       "      <th>2</th>\n",
       "      <td>facebook</td>\n",
       "      <td>201907</td>\n",
       "      <td>9000</td>\n",
       "    </tr>\n",
       "    <tr>\n",
       "      <th>3</th>\n",
       "      <td>search</td>\n",
       "      <td>201907</td>\n",
       "      <td>13000</td>\n",
       "    </tr>\n",
       "    <tr>\n",
       "      <th>4</th>\n",
       "      <td>youtube</td>\n",
       "      <td>201907</td>\n",
       "      <td>90</td>\n",
       "    </tr>\n",
       "    <tr>\n",
       "      <th>5</th>\n",
       "      <td>bing</td>\n",
       "      <td>201908</td>\n",
       "      <td>900</td>\n",
       "    </tr>\n",
       "    <tr>\n",
       "      <th>6</th>\n",
       "      <td>display</td>\n",
       "      <td>201908</td>\n",
       "      <td>20</td>\n",
       "    </tr>\n",
       "    <tr>\n",
       "      <th>7</th>\n",
       "      <td>facebook</td>\n",
       "      <td>201908</td>\n",
       "      <td>13000</td>\n",
       "    </tr>\n",
       "    <tr>\n",
       "      <th>8</th>\n",
       "      <td>search</td>\n",
       "      <td>201908</td>\n",
       "      <td>18500</td>\n",
       "    </tr>\n",
       "    <tr>\n",
       "      <th>9</th>\n",
       "      <td>youtube</td>\n",
       "      <td>201908</td>\n",
       "      <td>180</td>\n",
       "    </tr>\n",
       "  </tbody>\n",
       "</table>\n",
       "</div>"
      ],
      "text/plain": [
       "    channel    date  spend_AED\n",
       "0      bing  201907        400\n",
       "1   display  201907         12\n",
       "2  facebook  201907       9000\n",
       "3    search  201907      13000\n",
       "4   youtube  201907         90\n",
       "5      bing  201908        900\n",
       "6   display  201908         20\n",
       "7  facebook  201908      13000\n",
       "8    search  201908      18500\n",
       "9   youtube  201908        180"
      ]
     },
     "execution_count": 99,
     "metadata": {},
     "output_type": "execute_result"
    }
   ],
   "source": [
    "spend_df = pd.read_csv('Copy_of_channel_spend_graduate.csv')\n",
    "spend_df.head(10)"
   ]
  },
  {
   "cell_type": "code",
   "execution_count": 61,
   "metadata": {},
   "outputs": [
    {
     "data": {
      "text/html": [
       "<div>\n",
       "<style scoped>\n",
       "    .dataframe tbody tr th:only-of-type {\n",
       "        vertical-align: middle;\n",
       "    }\n",
       "\n",
       "    .dataframe tbody tr th {\n",
       "        vertical-align: top;\n",
       "    }\n",
       "\n",
       "    .dataframe thead th {\n",
       "        text-align: right;\n",
       "    }\n",
       "</style>\n",
       "<table border=\"1\" class=\"dataframe\">\n",
       "  <thead>\n",
       "    <tr style=\"text-align: right;\">\n",
       "      <th></th>\n",
       "      <th>spend_AED</th>\n",
       "    </tr>\n",
       "    <tr>\n",
       "      <th>channel</th>\n",
       "      <th></th>\n",
       "    </tr>\n",
       "  </thead>\n",
       "  <tbody>\n",
       "    <tr>\n",
       "      <th>bing</th>\n",
       "      <td>10800</td>\n",
       "    </tr>\n",
       "    <tr>\n",
       "      <th>display</th>\n",
       "      <td>366</td>\n",
       "    </tr>\n",
       "    <tr>\n",
       "      <th>facebook</th>\n",
       "      <td>113500</td>\n",
       "    </tr>\n",
       "    <tr>\n",
       "      <th>search</th>\n",
       "      <td>222500</td>\n",
       "    </tr>\n",
       "    <tr>\n",
       "      <th>youtube</th>\n",
       "      <td>8730</td>\n",
       "    </tr>\n",
       "  </tbody>\n",
       "</table>\n",
       "</div>"
      ],
      "text/plain": [
       "          spend_AED\n",
       "channel            \n",
       "bing          10800\n",
       "display         366\n",
       "facebook     113500\n",
       "search       222500\n",
       "youtube        8730"
      ]
     },
     "execution_count": 61,
     "metadata": {},
     "output_type": "execute_result"
    }
   ],
   "source": [
    "spend_df = spend_df.groupby(['channel']).sum().drop('date', axis=1)\n",
    "spend_df"
   ]
  },
  {
   "cell_type": "code",
   "execution_count": 64,
   "metadata": {},
   "outputs": [
    {
     "data": {
      "text/plain": [
       "0          True\n",
       "1          True\n",
       "2         False\n",
       "3         False\n",
       "4          True\n",
       "          ...  \n",
       "227623     True\n",
       "227624     True\n",
       "227625     True\n",
       "227626     True\n",
       "227627    False\n",
       "Name: conversion, Length: 227628, dtype: bool"
      ]
     },
     "execution_count": 64,
     "metadata": {},
     "output_type": "execute_result"
    }
   ],
   "source": [
    "sub_df.conversion"
   ]
  },
  {
   "cell_type": "code",
   "execution_count": 65,
   "metadata": {},
   "outputs": [
    {
     "data": {
      "text/plain": [
       "facebook                   41236\n",
       "search                     16539\n",
       "email                      14573\n",
       "organic                    12790\n",
       "brand sem intent google    10465\n",
       "google_organic              6904\n",
       "affiliate                   6081\n",
       "referral                    4391\n",
       "pinterest                   3987\n",
       "email_blast                 3493\n",
       "facebook_organic            1743\n",
       "discovery                   1546\n",
       "other                       1134\n",
       "brand sem intent bing       1076\n",
       "podcast                      832\n",
       "display                      799\n",
       "youtube                      730\n",
       "bing                         574\n",
       "internal                     555\n",
       "bing_organic                 207\n",
       "vod                          190\n",
       "ott                          123\n",
       "direct_mail                  101\n",
       "quora                         57\n",
       "appstore                      38\n",
       "pinterest_organic             24\n",
       "influencer                    18\n",
       "criteo                        16\n",
       "samsung                       16\n",
       "playstore                      8\n",
       "tv                             3\n",
       "content_greatist               1\n",
       "Name: attribution_technical, dtype: int64"
      ]
     },
     "execution_count": 65,
     "metadata": {},
     "output_type": "execute_result"
    }
   ],
   "source": [
    "sub_df[sub_df.conversion == True]['attribution_technical'].value_counts()"
   ]
  },
  {
   "cell_type": "code",
   "execution_count": 74,
   "metadata": {},
   "outputs": [],
   "source": [
    "CACofBing = spend_df.loc['bing']['spend_AED']/sub_df[sub_df.conversion == True]['attribution_technical'].value_counts()['bing']\n",
    "CACofDisplay = spend_df.loc['display']['spend_AED']/sub_df[sub_df.conversion == True]['attribution_technical'].value_counts()['display']\n",
    "CACofFacebook = spend_df.loc['facebook']['spend_AED']/sub_df[sub_df.conversion == True]['attribution_technical'].value_counts()['facebook']\n",
    "CACofSearch = spend_df.loc['search']['spend_AED']/sub_df[sub_df.conversion == True]['attribution_technical'].value_counts()['search']\n",
    "CACofyoutube = spend_df.loc['youtube']['spend_AED']/sub_df[sub_df.conversion == True]['attribution_technical'].value_counts()['youtube']"
   ]
  },
  {
   "cell_type": "code",
   "execution_count": 75,
   "metadata": {},
   "outputs": [
    {
     "name": "stdout",
     "output_type": "stream",
     "text": [
      "bing: 18.82\n",
      "display: 0.46\n",
      "facebook: 2.75\n",
      "organic: 13.45\n",
      "youtube: 11.96\n"
     ]
    }
   ],
   "source": [
    "print('bing: %.2f'%CACofBing)\n",
    "print('display: %.2f'%CACofDisplay)\n",
    "print('facebook: %.2f'%CACofFacebook)\n",
    "print('organic: %.2f'%CACofSearch)\n",
    "print('youtube: %.2f'%CACofyoutube)\n"
   ]
  },
  {
   "cell_type": "code",
   "execution_count": 109,
   "metadata": {},
   "outputs": [
    {
     "name": "stderr",
     "output_type": "stream",
     "text": [
      "/var/folders/xc/wrkdv3595mq6x6b_yvs2v83c0000gn/T/ipykernel_53726/459603061.py:2: SettingWithCopyWarning: \n",
      "A value is trying to be set on a copy of a slice from a DataFrame\n",
      "\n",
      "See the caveats in the documentation: https://pandas.pydata.org/pandas-docs/stable/user_guide/indexing.html#returning-a-view-versus-a-copy\n",
      "  spend_df['total_sub']['bing'] = len(sub_df[sub_df['attribution_technical'] == 'bing'])\n",
      "/var/folders/xc/wrkdv3595mq6x6b_yvs2v83c0000gn/T/ipykernel_53726/459603061.py:3: SettingWithCopyWarning: \n",
      "A value is trying to be set on a copy of a slice from a DataFrame\n",
      "\n",
      "See the caveats in the documentation: https://pandas.pydata.org/pandas-docs/stable/user_guide/indexing.html#returning-a-view-versus-a-copy\n",
      "  spend_df['total_sub']['display'] = len(sub_df[sub_df['attribution_technical'] == 'display'])\n",
      "/var/folders/xc/wrkdv3595mq6x6b_yvs2v83c0000gn/T/ipykernel_53726/459603061.py:4: SettingWithCopyWarning: \n",
      "A value is trying to be set on a copy of a slice from a DataFrame\n",
      "\n",
      "See the caveats in the documentation: https://pandas.pydata.org/pandas-docs/stable/user_guide/indexing.html#returning-a-view-versus-a-copy\n",
      "  spend_df['total_sub']['facebook'] = len(sub_df[sub_df['attribution_technical'] == 'facebook'])\n",
      "/var/folders/xc/wrkdv3595mq6x6b_yvs2v83c0000gn/T/ipykernel_53726/459603061.py:5: SettingWithCopyWarning: \n",
      "A value is trying to be set on a copy of a slice from a DataFrame\n",
      "\n",
      "See the caveats in the documentation: https://pandas.pydata.org/pandas-docs/stable/user_guide/indexing.html#returning-a-view-versus-a-copy\n",
      "  spend_df['total_sub']['search'] = len(sub_df[sub_df['attribution_technical'] == 'search'])\n",
      "/var/folders/xc/wrkdv3595mq6x6b_yvs2v83c0000gn/T/ipykernel_53726/459603061.py:6: SettingWithCopyWarning: \n",
      "A value is trying to be set on a copy of a slice from a DataFrame\n",
      "\n",
      "See the caveats in the documentation: https://pandas.pydata.org/pandas-docs/stable/user_guide/indexing.html#returning-a-view-versus-a-copy\n",
      "  spend_df['total_sub']['youtube'] = len(sub_df[sub_df['attribution_technical'] == 'youtube'])\n"
     ]
    }
   ],
   "source": [
    "spend_df['total_sub'] = 0\n",
    "spend_df['total_sub']['bing'] = len(sub_df[sub_df['attribution_technical'] == 'bing'])\n",
    "spend_df['total_sub']['display'] = len(sub_df[sub_df['attribution_technical'] == 'display'])\n",
    "spend_df['total_sub']['facebook'] = len(sub_df[sub_df['attribution_technical'] == 'facebook'])\n",
    "spend_df['total_sub']['search'] = len(sub_df[sub_df['attribution_technical'] == 'search'])\n",
    "spend_df['total_sub']['youtube'] = len(sub_df[sub_df['attribution_technical'] == 'youtube'])"
   ]
  },
  {
   "cell_type": "code",
   "execution_count": 120,
   "metadata": {},
   "outputs": [
    {
     "data": {
      "text/plain": [
       "str"
      ]
     },
     "execution_count": 120,
     "metadata": {},
     "output_type": "execute_result"
    }
   ],
   "source": [
    "type(sub_df['account_creation_date'][1])"
   ]
  },
  {
   "cell_type": "code",
   "execution_count": 133,
   "metadata": {},
   "outputs": [
    {
     "data": {
      "text/plain": [
       "0         False\n",
       "1         False\n",
       "2         False\n",
       "3         False\n",
       "4         False\n",
       "          ...  \n",
       "227623    False\n",
       "227624    False\n",
       "227625    False\n",
       "227626    False\n",
       "227627    False\n",
       "Name: account_creation_date, Length: 227628, dtype: bool"
      ]
     },
     "execution_count": 133,
     "metadata": {},
     "output_type": "execute_result"
    }
   ],
   "source": [
    "#提取sub_df中的account_creation_date的年份\n",
    "sub_df['account_creation_date'] = pd.to_datetime(sub_df['account_creation_date'])\n",
    "sub_df['account_creation_date'] = sub_df['account_creation_date'].dt.month\n",
    "sub_df['account_creation_date']==7"
   ]
  },
  {
   "cell_type": "code",
   "execution_count": 140,
   "metadata": {},
   "outputs": [
    {
     "data": {
      "text/plain": [
       "0        1970-01-01 00:00:00.000000001\n",
       "1        1970-01-01 00:00:00.000000001\n",
       "2        1970-01-01 00:00:00.000000001\n",
       "3        1970-01-01 00:00:00.000000001\n",
       "4        1970-01-01 00:00:00.000000001\n",
       "                      ...             \n",
       "227623   1970-01-01 00:00:00.000000001\n",
       "227624   1970-01-01 00:00:00.000000001\n",
       "227625   1970-01-01 00:00:00.000000001\n",
       "227626   1970-01-01 00:00:00.000000001\n",
       "227627   1970-01-01 00:00:00.000000001\n",
       "Name: account_creation_date, Length: 227628, dtype: datetime64[ns]"
      ]
     },
     "execution_count": 140,
     "metadata": {},
     "output_type": "execute_result"
    }
   ],
   "source": [
    "sub_df['account_creation_date']"
   ]
  },
  {
   "cell_type": "code",
   "execution_count": 161,
   "metadata": {},
   "outputs": [],
   "source": [
    "def counting(year, month, sub_df):\n",
    "    sub_df['account_creation_date1'] = pd.to_datetime(sub_df['account_creation_date'])\n",
    "    total = sub_df[(sub_df['account_creation_date1'].dt.month == month) & (sub_df['account_creation_date1'].dt.year == year)]\n",
    "    he=total[total['conversion']==True]\n",
    "    print('For year %s, month %s, total user = %d, subscriber = %d'%(year, month, len(total), len(he)))\n",
    "    print('For year %s, month %s, converion_rate = %f'%(year, month, len(he)/len(total)))\n",
    "    # subscriber = sum((sub_df['conversion'] == True) & (sub_df['account_creation_date'].dt.month == month) & (sub_df['account_creation_date'].dt.year == year))\n",
    "    # print('For year %s, month %s, total user = %d, subscriber = %s'%(year, month, total, subscriber))"
   ]
  },
  {
   "cell_type": "code",
   "execution_count": null,
   "metadata": {},
   "outputs": [],
   "source": []
  },
  {
   "cell_type": "code",
   "execution_count": 162,
   "metadata": {},
   "outputs": [
    {
     "name": "stdout",
     "output_type": "stream",
     "text": [
      "For year 2019, month 12, total user = 25339, subscriber = 17215\n",
      "For year 2019, month 12, converion_rate = 0.679388\n",
      "For year 2019, month 8, total user = 25434, subscriber = 11365\n",
      "For year 2019, month 8, converion_rate = 0.446843\n",
      "For year 2019, month 9, total user = 20190, subscriber = 11111\n",
      "For year 2019, month 9, converion_rate = 0.550322\n",
      "For year 2019, month 10, total user = 22412, subscriber = 13507\n",
      "For year 2019, month 10, converion_rate = 0.602668\n",
      "For year 2019, month 11, total user = 26828, subscriber = 17606\n",
      "For year 2019, month 11, converion_rate = 0.656255\n",
      "For year 2019, month 12, total user = 25339, subscriber = 17215\n",
      "For year 2019, month 12, converion_rate = 0.679388\n",
      "For year 2020, month 1, total user = 24843, subscriber = 16798\n",
      "For year 2020, month 1, converion_rate = 0.676166\n",
      "For year 2020, month 2, total user = 28089, subscriber = 18524\n",
      "For year 2020, month 2, converion_rate = 0.659475\n"
     ]
    }
   ],
   "source": [
    "counting(2019,12,sub_df)\n",
    "counting(2019,8,sub_df)\n",
    "counting(2019,9,sub_df)\n",
    "counting(2019,10,sub_df)\n",
    "counting(2019,11,sub_df)\n",
    "counting(2019,12,sub_df)\n",
    "counting(2020,1,sub_df)\n",
    "counting(2020,2,sub_df)"
   ]
  },
  {
   "cell_type": "code",
   "execution_count": 163,
   "metadata": {},
   "outputs": [
    {
     "data": {
      "text/plain": [
       "0.6793875054264178"
      ]
     },
     "execution_count": 163,
     "metadata": {},
     "output_type": "execute_result"
    }
   ],
   "source": [
    "17215/25339"
   ]
  },
  {
   "attachments": {},
   "cell_type": "markdown",
   "metadata": {},
   "source": [
    "# Churn"
   ]
  },
  {
   "cell_type": "code",
   "execution_count": 177,
   "metadata": {},
   "outputs": [],
   "source": [
    "import pandas as pd\n",
    "import statsmodels.api as sm\n",
    "from sklearn.metrics import confusion_matrix\n",
    "from sklearn import model_selection\n",
    "from matplotlib import pyplot as plt\n",
    "import numpy as np\n",
    "import copy\n",
    "import math\n",
    "from sklearn.preprocessing import MinMaxScaler\n",
    "from sklearn.preprocessing import OneHotEncoder\n",
    "from sklearn.linear_model import LogisticRegression\n",
    "from sklearn.metrics import accuracy_score\n",
    "from sklearn.metrics import roc_auc_score\n",
    "from sklearn.metrics import roc_curve\n",
    "from catboost import CatBoostClassifier, Pool, cv\n",
    "from sklearn.metrics import accuracy_score\n",
    "\n",
    "pd.options.display.max_columns = 25"
   ]
  },
  {
   "cell_type": "code",
   "execution_count": 181,
   "metadata": {},
   "outputs": [
    {
     "data": {
      "text/html": [
       "<div>\n",
       "<style scoped>\n",
       "    .dataframe tbody tr th:only-of-type {\n",
       "        vertical-align: middle;\n",
       "    }\n",
       "\n",
       "    .dataframe tbody tr th {\n",
       "        vertical-align: top;\n",
       "    }\n",
       "\n",
       "    .dataframe thead th {\n",
       "        text-align: right;\n",
       "    }\n",
       "</style>\n",
       "<table border=\"1\" class=\"dataframe\">\n",
       "  <thead>\n",
       "    <tr style=\"text-align: right;\">\n",
       "      <th></th>\n",
       "      <th>Unnamed: 0</th>\n",
       "      <th>subid</th>\n",
       "      <th>package_type</th>\n",
       "      <th>num_weekly_services_utilized</th>\n",
       "      <th>preferred_genre</th>\n",
       "      <th>intended_use</th>\n",
       "      <th>weekly_consumption_hour</th>\n",
       "      <th>num_ideal_streaming_services</th>\n",
       "      <th>age</th>\n",
       "      <th>male_TF</th>\n",
       "      <th>country</th>\n",
       "      <th>attribution_technical</th>\n",
       "      <th>...</th>\n",
       "      <th>trial_end_date</th>\n",
       "      <th>initial_credit_card_declined</th>\n",
       "      <th>join_fee</th>\n",
       "      <th>language</th>\n",
       "      <th>payment_type</th>\n",
       "      <th>num_trial_days</th>\n",
       "      <th>current_sub_TF</th>\n",
       "      <th>payment_period</th>\n",
       "      <th>last_payment</th>\n",
       "      <th>next_payment</th>\n",
       "      <th>cancel_date</th>\n",
       "      <th>trial_completed</th>\n",
       "    </tr>\n",
       "  </thead>\n",
       "  <tbody>\n",
       "    <tr>\n",
       "      <th>0</th>\n",
       "      <td>162502</td>\n",
       "      <td>21724479</td>\n",
       "      <td>economy</td>\n",
       "      <td>NaN</td>\n",
       "      <td>comedy</td>\n",
       "      <td>access to exclusive content</td>\n",
       "      <td>NaN</td>\n",
       "      <td>NaN</td>\n",
       "      <td>NaN</td>\n",
       "      <td>False</td>\n",
       "      <td>UAE</td>\n",
       "      <td>facebook</td>\n",
       "      <td>...</td>\n",
       "      <td>2020/2/7 21:44</td>\n",
       "      <td>False</td>\n",
       "      <td>NaN</td>\n",
       "      <td>ar</td>\n",
       "      <td>Standard Charter</td>\n",
       "      <td>14</td>\n",
       "      <td>True</td>\n",
       "      <td>1</td>\n",
       "      <td>2020/2/7 21:44</td>\n",
       "      <td>2020/6/7 21:44</td>\n",
       "      <td>NaN</td>\n",
       "      <td>True</td>\n",
       "    </tr>\n",
       "    <tr>\n",
       "      <th>1</th>\n",
       "      <td>380374</td>\n",
       "      <td>23383224</td>\n",
       "      <td>base</td>\n",
       "      <td>NaN</td>\n",
       "      <td>comedy</td>\n",
       "      <td>access to exclusive content</td>\n",
       "      <td>22.951579</td>\n",
       "      <td>NaN</td>\n",
       "      <td>70.0</td>\n",
       "      <td>False</td>\n",
       "      <td>UAE</td>\n",
       "      <td>facebook</td>\n",
       "      <td>...</td>\n",
       "      <td>2020/3/15 15:44</td>\n",
       "      <td>False</td>\n",
       "      <td>0.3303</td>\n",
       "      <td>ar</td>\n",
       "      <td>NaN</td>\n",
       "      <td>14</td>\n",
       "      <td>True</td>\n",
       "      <td>1</td>\n",
       "      <td>2020/3/15 15:44</td>\n",
       "      <td>2020/7/15 15:44</td>\n",
       "      <td>NaN</td>\n",
       "      <td>True</td>\n",
       "    </tr>\n",
       "    <tr>\n",
       "      <th>2</th>\n",
       "      <td>496617</td>\n",
       "      <td>26844789</td>\n",
       "      <td>enhanced</td>\n",
       "      <td>3.0</td>\n",
       "      <td>regional</td>\n",
       "      <td>replace OTT</td>\n",
       "      <td>36.001186</td>\n",
       "      <td>2.0</td>\n",
       "      <td>25.0</td>\n",
       "      <td>True</td>\n",
       "      <td>UAE</td>\n",
       "      <td>organic</td>\n",
       "      <td>...</td>\n",
       "      <td>2019/12/21 16:37</td>\n",
       "      <td>False</td>\n",
       "      <td>0.1101</td>\n",
       "      <td>ar</td>\n",
       "      <td>NaN</td>\n",
       "      <td>14</td>\n",
       "      <td>False</td>\n",
       "      <td>0</td>\n",
       "      <td>NaN</td>\n",
       "      <td>NaN</td>\n",
       "      <td>NaN</td>\n",
       "      <td>True</td>\n",
       "    </tr>\n",
       "    <tr>\n",
       "      <th>3</th>\n",
       "      <td>356799</td>\n",
       "      <td>29417030</td>\n",
       "      <td>base</td>\n",
       "      <td>NaN</td>\n",
       "      <td>drama</td>\n",
       "      <td>replace OTT</td>\n",
       "      <td>20.051667</td>\n",
       "      <td>NaN</td>\n",
       "      <td>30.0</td>\n",
       "      <td>False</td>\n",
       "      <td>UAE</td>\n",
       "      <td>search</td>\n",
       "      <td>...</td>\n",
       "      <td>2020/2/10 16:09</td>\n",
       "      <td>False</td>\n",
       "      <td>0.0367</td>\n",
       "      <td>ar</td>\n",
       "      <td>NaN</td>\n",
       "      <td>14</td>\n",
       "      <td>False</td>\n",
       "      <td>0</td>\n",
       "      <td>NaN</td>\n",
       "      <td>NaN</td>\n",
       "      <td>NaN</td>\n",
       "      <td>True</td>\n",
       "    </tr>\n",
       "    <tr>\n",
       "      <th>4</th>\n",
       "      <td>681701</td>\n",
       "      <td>26723159</td>\n",
       "      <td>base</td>\n",
       "      <td>4.0</td>\n",
       "      <td>comedy</td>\n",
       "      <td>replace OTT</td>\n",
       "      <td>22.951579</td>\n",
       "      <td>3.0</td>\n",
       "      <td>28.0</td>\n",
       "      <td>False</td>\n",
       "      <td>UAE</td>\n",
       "      <td>discovery</td>\n",
       "      <td>...</td>\n",
       "      <td>2019/10/19 12:57</td>\n",
       "      <td>False</td>\n",
       "      <td>0.0367</td>\n",
       "      <td>ar</td>\n",
       "      <td>NaN</td>\n",
       "      <td>14</td>\n",
       "      <td>True</td>\n",
       "      <td>2</td>\n",
       "      <td>2020/2/19 12:57</td>\n",
       "      <td>2020/6/19 12:57</td>\n",
       "      <td>NaN</td>\n",
       "      <td>True</td>\n",
       "    </tr>\n",
       "    <tr>\n",
       "      <th>5</th>\n",
       "      <td>284782</td>\n",
       "      <td>24810928</td>\n",
       "      <td>base</td>\n",
       "      <td>NaN</td>\n",
       "      <td>comedy</td>\n",
       "      <td>access to exclusive content</td>\n",
       "      <td>20.051667</td>\n",
       "      <td>NaN</td>\n",
       "      <td>70.0</td>\n",
       "      <td>False</td>\n",
       "      <td>UAE</td>\n",
       "      <td>bing</td>\n",
       "      <td>...</td>\n",
       "      <td>2020/3/17 20:15</td>\n",
       "      <td>False</td>\n",
       "      <td>0.3303</td>\n",
       "      <td>ar</td>\n",
       "      <td>RAKBANK</td>\n",
       "      <td>14</td>\n",
       "      <td>True</td>\n",
       "      <td>1</td>\n",
       "      <td>2020/3/17 20:15</td>\n",
       "      <td>2020/7/17 20:15</td>\n",
       "      <td>NaN</td>\n",
       "      <td>True</td>\n",
       "    </tr>\n",
       "    <tr>\n",
       "      <th>6</th>\n",
       "      <td>192823</td>\n",
       "      <td>29726122</td>\n",
       "      <td>base</td>\n",
       "      <td>2.0</td>\n",
       "      <td>comedy</td>\n",
       "      <td>access to exclusive content</td>\n",
       "      <td>20.051667</td>\n",
       "      <td>2.0</td>\n",
       "      <td>61.0</td>\n",
       "      <td>False</td>\n",
       "      <td>UAE</td>\n",
       "      <td>bing</td>\n",
       "      <td>...</td>\n",
       "      <td>2020/3/4 18:30</td>\n",
       "      <td>False</td>\n",
       "      <td>0.3303</td>\n",
       "      <td>ar</td>\n",
       "      <td>Standard Charter</td>\n",
       "      <td>14</td>\n",
       "      <td>True</td>\n",
       "      <td>1</td>\n",
       "      <td>2020/3/4 18:30</td>\n",
       "      <td>2020/7/4 18:30</td>\n",
       "      <td>NaN</td>\n",
       "      <td>True</td>\n",
       "    </tr>\n",
       "    <tr>\n",
       "      <th>7</th>\n",
       "      <td>315863</td>\n",
       "      <td>20299962</td>\n",
       "      <td>base</td>\n",
       "      <td>3.0</td>\n",
       "      <td>drama</td>\n",
       "      <td>access to exclusive content</td>\n",
       "      <td>34.551230</td>\n",
       "      <td>2.0</td>\n",
       "      <td>23.0</td>\n",
       "      <td>False</td>\n",
       "      <td>UAE</td>\n",
       "      <td>email</td>\n",
       "      <td>...</td>\n",
       "      <td>2020/3/19 14:52</td>\n",
       "      <td>False</td>\n",
       "      <td>0.0000</td>\n",
       "      <td>ar</td>\n",
       "      <td>RAKBANK</td>\n",
       "      <td>14</td>\n",
       "      <td>True</td>\n",
       "      <td>1</td>\n",
       "      <td>2020/3/19 14:52</td>\n",
       "      <td>2020/7/19 14:52</td>\n",
       "      <td>NaN</td>\n",
       "      <td>True</td>\n",
       "    </tr>\n",
       "    <tr>\n",
       "      <th>8</th>\n",
       "      <td>254782</td>\n",
       "      <td>24930568</td>\n",
       "      <td>base</td>\n",
       "      <td>NaN</td>\n",
       "      <td>comedy</td>\n",
       "      <td>access to exclusive content</td>\n",
       "      <td>25.851492</td>\n",
       "      <td>NaN</td>\n",
       "      <td>73.0</td>\n",
       "      <td>False</td>\n",
       "      <td>UAE</td>\n",
       "      <td>facebook</td>\n",
       "      <td>...</td>\n",
       "      <td>2020/3/8 17:50</td>\n",
       "      <td>False</td>\n",
       "      <td>0.6606</td>\n",
       "      <td>ar</td>\n",
       "      <td>NaN</td>\n",
       "      <td>14</td>\n",
       "      <td>True</td>\n",
       "      <td>1</td>\n",
       "      <td>2020/3/8 17:50</td>\n",
       "      <td>2020/7/8 17:50</td>\n",
       "      <td>NaN</td>\n",
       "      <td>True</td>\n",
       "    </tr>\n",
       "    <tr>\n",
       "      <th>9</th>\n",
       "      <td>681969</td>\n",
       "      <td>23452753</td>\n",
       "      <td>economy</td>\n",
       "      <td>3.0</td>\n",
       "      <td>drama</td>\n",
       "      <td>replace OTT</td>\n",
       "      <td>28.751405</td>\n",
       "      <td>2.0</td>\n",
       "      <td>71.0</td>\n",
       "      <td>False</td>\n",
       "      <td>UAE</td>\n",
       "      <td>search</td>\n",
       "      <td>...</td>\n",
       "      <td>2020/2/4 14:17</td>\n",
       "      <td>False</td>\n",
       "      <td>0.3303</td>\n",
       "      <td>ar</td>\n",
       "      <td>NaN</td>\n",
       "      <td>14</td>\n",
       "      <td>False</td>\n",
       "      <td>0</td>\n",
       "      <td>NaN</td>\n",
       "      <td>NaN</td>\n",
       "      <td>2020/1/27 00:00</td>\n",
       "      <td>False</td>\n",
       "    </tr>\n",
       "  </tbody>\n",
       "</table>\n",
       "<p>10 rows × 31 columns</p>\n",
       "</div>"
      ],
      "text/plain": [
       "   Unnamed: 0     subid package_type  num_weekly_services_utilized  \\\n",
       "0      162502  21724479      economy                           NaN   \n",
       "1      380374  23383224         base                           NaN   \n",
       "2      496617  26844789     enhanced                           3.0   \n",
       "3      356799  29417030         base                           NaN   \n",
       "4      681701  26723159         base                           4.0   \n",
       "5      284782  24810928         base                           NaN   \n",
       "6      192823  29726122         base                           2.0   \n",
       "7      315863  20299962         base                           3.0   \n",
       "8      254782  24930568         base                           NaN   \n",
       "9      681969  23452753      economy                           3.0   \n",
       "\n",
       "  preferred_genre                 intended_use  weekly_consumption_hour  \\\n",
       "0          comedy  access to exclusive content                      NaN   \n",
       "1          comedy  access to exclusive content                22.951579   \n",
       "2        regional                  replace OTT                36.001186   \n",
       "3           drama                  replace OTT                20.051667   \n",
       "4          comedy                  replace OTT                22.951579   \n",
       "5          comedy  access to exclusive content                20.051667   \n",
       "6          comedy  access to exclusive content                20.051667   \n",
       "7           drama  access to exclusive content                34.551230   \n",
       "8          comedy  access to exclusive content                25.851492   \n",
       "9           drama                  replace OTT                28.751405   \n",
       "\n",
       "   num_ideal_streaming_services   age male_TF country attribution_technical  \\\n",
       "0                           NaN   NaN   False     UAE              facebook   \n",
       "1                           NaN  70.0   False     UAE              facebook   \n",
       "2                           2.0  25.0    True     UAE               organic   \n",
       "3                           NaN  30.0   False     UAE                search   \n",
       "4                           3.0  28.0   False     UAE             discovery   \n",
       "5                           NaN  70.0   False     UAE                  bing   \n",
       "6                           2.0  61.0   False     UAE                  bing   \n",
       "7                           2.0  23.0   False     UAE                 email   \n",
       "8                           NaN  73.0   False     UAE              facebook   \n",
       "9                           2.0  71.0   False     UAE                search   \n",
       "\n",
       "   ...    trial_end_date initial_credit_card_declined  join_fee language  \\\n",
       "0  ...    2020/2/7 21:44                        False       NaN       ar   \n",
       "1  ...   2020/3/15 15:44                        False    0.3303       ar   \n",
       "2  ...  2019/12/21 16:37                        False    0.1101       ar   \n",
       "3  ...   2020/2/10 16:09                        False    0.0367       ar   \n",
       "4  ...  2019/10/19 12:57                        False    0.0367       ar   \n",
       "5  ...   2020/3/17 20:15                        False    0.3303       ar   \n",
       "6  ...    2020/3/4 18:30                        False    0.3303       ar   \n",
       "7  ...   2020/3/19 14:52                        False    0.0000       ar   \n",
       "8  ...    2020/3/8 17:50                        False    0.6606       ar   \n",
       "9  ...    2020/2/4 14:17                        False    0.3303       ar   \n",
       "\n",
       "       payment_type  num_trial_days current_sub_TF payment_period  \\\n",
       "0  Standard Charter              14           True              1   \n",
       "1               NaN              14           True              1   \n",
       "2               NaN              14          False              0   \n",
       "3               NaN              14          False              0   \n",
       "4               NaN              14           True              2   \n",
       "5           RAKBANK              14           True              1   \n",
       "6  Standard Charter              14           True              1   \n",
       "7           RAKBANK              14           True              1   \n",
       "8               NaN              14           True              1   \n",
       "9               NaN              14          False              0   \n",
       "\n",
       "      last_payment     next_payment      cancel_date trial_completed  \n",
       "0   2020/2/7 21:44   2020/6/7 21:44              NaN            True  \n",
       "1  2020/3/15 15:44  2020/7/15 15:44              NaN            True  \n",
       "2              NaN              NaN              NaN            True  \n",
       "3              NaN              NaN              NaN            True  \n",
       "4  2020/2/19 12:57  2020/6/19 12:57              NaN            True  \n",
       "5  2020/3/17 20:15  2020/7/17 20:15              NaN            True  \n",
       "6   2020/3/4 18:30   2020/7/4 18:30              NaN            True  \n",
       "7  2020/3/19 14:52  2020/7/19 14:52              NaN            True  \n",
       "8   2020/3/8 17:50   2020/7/8 17:50              NaN            True  \n",
       "9              NaN              NaN  2020/1/27 00:00           False  \n",
       "\n",
       "[10 rows x 31 columns]"
      ]
     },
     "execution_count": 181,
     "metadata": {},
     "output_type": "execute_result"
    }
   ],
   "source": [
    "churn_df = pd.read_csv('Copy_of_subscribers.csv')\n",
    "churn_df.head(10)"
   ]
  },
  {
   "cell_type": "code",
   "execution_count": null,
   "metadata": {},
   "outputs": [],
   "source": [
    "# select parameters useful and predictable\n",
    "df_churn = df[['package_type', 'num_weekly_services_utilized', 'preferred_genre', 'intended_use', 'weekly_consumption_hour', 'num_ideal_streaming_services', 'age', 'male_TF', 'country', 'attribution_technical', 'attribution_survey', 'op_sys', 'plan_type', 'monthly_price', 'discount_price', 'join_fee', 'language', 'num_trial_days', 'payment_period','conversion']]"
   ]
  },
  {
   "cell_type": "code",
   "execution_count": 182,
   "metadata": {},
   "outputs": [],
   "source": [
    "churn_df.drop(['Unnamed: 0','months_per_bill_period','account_creation_date','trial_end_date','payment_period',\\\n",
    "         'initial_credit_card_declined','last_payment','next_payment','cancel_date'],\\\n",
    "       axis = 1,inplace=True)"
   ]
  },
  {
   "cell_type": "code",
   "execution_count": 184,
   "metadata": {},
   "outputs": [],
   "source": [
    "eng_df = pd.read_pickle ('engagement')\n",
    "eng_df.drop(['payment_period','date'],axis = 1,inplace=True)\n",
    "eng_df = eng_df.groupby(by=\"subid\").sum()\n",
    "churn_df = pd.merge(churn_df, eng_df, left_on='subid', right_on='subid', how='left')"
   ]
  },
  {
   "cell_type": "code",
   "execution_count": 185,
   "metadata": {},
   "outputs": [
    {
     "data": {
      "text/html": [
       "<div>\n",
       "<style scoped>\n",
       "    .dataframe tbody tr th:only-of-type {\n",
       "        vertical-align: middle;\n",
       "    }\n",
       "\n",
       "    .dataframe tbody tr th {\n",
       "        vertical-align: top;\n",
       "    }\n",
       "\n",
       "    .dataframe thead th {\n",
       "        text-align: right;\n",
       "    }\n",
       "</style>\n",
       "<table border=\"1\" class=\"dataframe\">\n",
       "  <thead>\n",
       "    <tr style=\"text-align: right;\">\n",
       "      <th></th>\n",
       "      <th>subid</th>\n",
       "      <th>package_type</th>\n",
       "      <th>num_weekly_services_utilized</th>\n",
       "      <th>preferred_genre</th>\n",
       "      <th>intended_use</th>\n",
       "      <th>weekly_consumption_hour</th>\n",
       "      <th>num_ideal_streaming_services</th>\n",
       "      <th>age</th>\n",
       "      <th>male_TF</th>\n",
       "      <th>country</th>\n",
       "      <th>attribution_technical</th>\n",
       "      <th>attribution_survey</th>\n",
       "      <th>...</th>\n",
       "      <th>join_fee</th>\n",
       "      <th>language</th>\n",
       "      <th>payment_type</th>\n",
       "      <th>num_trial_days</th>\n",
       "      <th>current_sub_TF</th>\n",
       "      <th>trial_completed</th>\n",
       "      <th>app_opens</th>\n",
       "      <th>cust_service_mssgs</th>\n",
       "      <th>num_videos_completed</th>\n",
       "      <th>num_videos_more_than_30_seconds</th>\n",
       "      <th>num_videos_rated</th>\n",
       "      <th>num_series_started</th>\n",
       "    </tr>\n",
       "  </thead>\n",
       "  <tbody>\n",
       "    <tr>\n",
       "      <th>0</th>\n",
       "      <td>21724479</td>\n",
       "      <td>economy</td>\n",
       "      <td>NaN</td>\n",
       "      <td>comedy</td>\n",
       "      <td>access to exclusive content</td>\n",
       "      <td>NaN</td>\n",
       "      <td>NaN</td>\n",
       "      <td>NaN</td>\n",
       "      <td>False</td>\n",
       "      <td>UAE</td>\n",
       "      <td>facebook</td>\n",
       "      <td>facebook</td>\n",
       "      <td>...</td>\n",
       "      <td>NaN</td>\n",
       "      <td>ar</td>\n",
       "      <td>Standard Charter</td>\n",
       "      <td>14</td>\n",
       "      <td>True</td>\n",
       "      <td>True</td>\n",
       "      <td>NaN</td>\n",
       "      <td>NaN</td>\n",
       "      <td>NaN</td>\n",
       "      <td>NaN</td>\n",
       "      <td>NaN</td>\n",
       "      <td>NaN</td>\n",
       "    </tr>\n",
       "    <tr>\n",
       "      <th>1</th>\n",
       "      <td>23383224</td>\n",
       "      <td>base</td>\n",
       "      <td>NaN</td>\n",
       "      <td>comedy</td>\n",
       "      <td>access to exclusive content</td>\n",
       "      <td>22.951579</td>\n",
       "      <td>NaN</td>\n",
       "      <td>70.0</td>\n",
       "      <td>False</td>\n",
       "      <td>UAE</td>\n",
       "      <td>facebook</td>\n",
       "      <td>facebook</td>\n",
       "      <td>...</td>\n",
       "      <td>0.3303</td>\n",
       "      <td>ar</td>\n",
       "      <td>NaN</td>\n",
       "      <td>14</td>\n",
       "      <td>True</td>\n",
       "      <td>True</td>\n",
       "      <td>NaN</td>\n",
       "      <td>NaN</td>\n",
       "      <td>NaN</td>\n",
       "      <td>NaN</td>\n",
       "      <td>NaN</td>\n",
       "      <td>NaN</td>\n",
       "    </tr>\n",
       "    <tr>\n",
       "      <th>2</th>\n",
       "      <td>26844789</td>\n",
       "      <td>enhanced</td>\n",
       "      <td>3.0</td>\n",
       "      <td>regional</td>\n",
       "      <td>replace OTT</td>\n",
       "      <td>36.001186</td>\n",
       "      <td>2.0</td>\n",
       "      <td>25.0</td>\n",
       "      <td>True</td>\n",
       "      <td>UAE</td>\n",
       "      <td>organic</td>\n",
       "      <td>facebook</td>\n",
       "      <td>...</td>\n",
       "      <td>0.1101</td>\n",
       "      <td>ar</td>\n",
       "      <td>NaN</td>\n",
       "      <td>14</td>\n",
       "      <td>False</td>\n",
       "      <td>True</td>\n",
       "      <td>2.0</td>\n",
       "      <td>2.0</td>\n",
       "      <td>13.0</td>\n",
       "      <td>13.0</td>\n",
       "      <td>0.0</td>\n",
       "      <td>1.0</td>\n",
       "    </tr>\n",
       "    <tr>\n",
       "      <th>3</th>\n",
       "      <td>29417030</td>\n",
       "      <td>base</td>\n",
       "      <td>NaN</td>\n",
       "      <td>drama</td>\n",
       "      <td>replace OTT</td>\n",
       "      <td>20.051667</td>\n",
       "      <td>NaN</td>\n",
       "      <td>30.0</td>\n",
       "      <td>False</td>\n",
       "      <td>UAE</td>\n",
       "      <td>search</td>\n",
       "      <td>tv</td>\n",
       "      <td>...</td>\n",
       "      <td>0.0367</td>\n",
       "      <td>ar</td>\n",
       "      <td>NaN</td>\n",
       "      <td>14</td>\n",
       "      <td>False</td>\n",
       "      <td>True</td>\n",
       "      <td>NaN</td>\n",
       "      <td>NaN</td>\n",
       "      <td>NaN</td>\n",
       "      <td>NaN</td>\n",
       "      <td>NaN</td>\n",
       "      <td>NaN</td>\n",
       "    </tr>\n",
       "    <tr>\n",
       "      <th>4</th>\n",
       "      <td>26723159</td>\n",
       "      <td>base</td>\n",
       "      <td>4.0</td>\n",
       "      <td>comedy</td>\n",
       "      <td>replace OTT</td>\n",
       "      <td>22.951579</td>\n",
       "      <td>3.0</td>\n",
       "      <td>28.0</td>\n",
       "      <td>False</td>\n",
       "      <td>UAE</td>\n",
       "      <td>discovery</td>\n",
       "      <td>youtube</td>\n",
       "      <td>...</td>\n",
       "      <td>0.0367</td>\n",
       "      <td>ar</td>\n",
       "      <td>NaN</td>\n",
       "      <td>14</td>\n",
       "      <td>True</td>\n",
       "      <td>True</td>\n",
       "      <td>NaN</td>\n",
       "      <td>NaN</td>\n",
       "      <td>NaN</td>\n",
       "      <td>NaN</td>\n",
       "      <td>NaN</td>\n",
       "      <td>NaN</td>\n",
       "    </tr>\n",
       "    <tr>\n",
       "      <th>5</th>\n",
       "      <td>24810928</td>\n",
       "      <td>base</td>\n",
       "      <td>NaN</td>\n",
       "      <td>comedy</td>\n",
       "      <td>access to exclusive content</td>\n",
       "      <td>20.051667</td>\n",
       "      <td>NaN</td>\n",
       "      <td>70.0</td>\n",
       "      <td>False</td>\n",
       "      <td>UAE</td>\n",
       "      <td>bing</td>\n",
       "      <td>tv</td>\n",
       "      <td>...</td>\n",
       "      <td>0.3303</td>\n",
       "      <td>ar</td>\n",
       "      <td>RAKBANK</td>\n",
       "      <td>14</td>\n",
       "      <td>True</td>\n",
       "      <td>True</td>\n",
       "      <td>NaN</td>\n",
       "      <td>NaN</td>\n",
       "      <td>NaN</td>\n",
       "      <td>NaN</td>\n",
       "      <td>NaN</td>\n",
       "      <td>NaN</td>\n",
       "    </tr>\n",
       "    <tr>\n",
       "      <th>6</th>\n",
       "      <td>29726122</td>\n",
       "      <td>base</td>\n",
       "      <td>2.0</td>\n",
       "      <td>comedy</td>\n",
       "      <td>access to exclusive content</td>\n",
       "      <td>20.051667</td>\n",
       "      <td>2.0</td>\n",
       "      <td>61.0</td>\n",
       "      <td>False</td>\n",
       "      <td>UAE</td>\n",
       "      <td>bing</td>\n",
       "      <td>search</td>\n",
       "      <td>...</td>\n",
       "      <td>0.3303</td>\n",
       "      <td>ar</td>\n",
       "      <td>Standard Charter</td>\n",
       "      <td>14</td>\n",
       "      <td>True</td>\n",
       "      <td>True</td>\n",
       "      <td>40.0</td>\n",
       "      <td>17.0</td>\n",
       "      <td>182.0</td>\n",
       "      <td>182.0</td>\n",
       "      <td>6.0</td>\n",
       "      <td>39.0</td>\n",
       "    </tr>\n",
       "    <tr>\n",
       "      <th>7</th>\n",
       "      <td>20299962</td>\n",
       "      <td>base</td>\n",
       "      <td>3.0</td>\n",
       "      <td>drama</td>\n",
       "      <td>access to exclusive content</td>\n",
       "      <td>34.551230</td>\n",
       "      <td>2.0</td>\n",
       "      <td>23.0</td>\n",
       "      <td>False</td>\n",
       "      <td>UAE</td>\n",
       "      <td>email</td>\n",
       "      <td>referral</td>\n",
       "      <td>...</td>\n",
       "      <td>0.0000</td>\n",
       "      <td>ar</td>\n",
       "      <td>RAKBANK</td>\n",
       "      <td>14</td>\n",
       "      <td>True</td>\n",
       "      <td>True</td>\n",
       "      <td>104.0</td>\n",
       "      <td>10.0</td>\n",
       "      <td>84.0</td>\n",
       "      <td>206.0</td>\n",
       "      <td>0.0</td>\n",
       "      <td>29.0</td>\n",
       "    </tr>\n",
       "    <tr>\n",
       "      <th>8</th>\n",
       "      <td>24930568</td>\n",
       "      <td>base</td>\n",
       "      <td>NaN</td>\n",
       "      <td>comedy</td>\n",
       "      <td>access to exclusive content</td>\n",
       "      <td>25.851492</td>\n",
       "      <td>NaN</td>\n",
       "      <td>73.0</td>\n",
       "      <td>False</td>\n",
       "      <td>UAE</td>\n",
       "      <td>facebook</td>\n",
       "      <td>facebook</td>\n",
       "      <td>...</td>\n",
       "      <td>0.6606</td>\n",
       "      <td>ar</td>\n",
       "      <td>NaN</td>\n",
       "      <td>14</td>\n",
       "      <td>True</td>\n",
       "      <td>True</td>\n",
       "      <td>3.0</td>\n",
       "      <td>3.0</td>\n",
       "      <td>2.0</td>\n",
       "      <td>13.0</td>\n",
       "      <td>0.0</td>\n",
       "      <td>0.0</td>\n",
       "    </tr>\n",
       "    <tr>\n",
       "      <th>9</th>\n",
       "      <td>23452753</td>\n",
       "      <td>economy</td>\n",
       "      <td>3.0</td>\n",
       "      <td>drama</td>\n",
       "      <td>replace OTT</td>\n",
       "      <td>28.751405</td>\n",
       "      <td>2.0</td>\n",
       "      <td>71.0</td>\n",
       "      <td>False</td>\n",
       "      <td>UAE</td>\n",
       "      <td>search</td>\n",
       "      <td>facebook</td>\n",
       "      <td>...</td>\n",
       "      <td>0.3303</td>\n",
       "      <td>ar</td>\n",
       "      <td>NaN</td>\n",
       "      <td>14</td>\n",
       "      <td>False</td>\n",
       "      <td>False</td>\n",
       "      <td>NaN</td>\n",
       "      <td>NaN</td>\n",
       "      <td>NaN</td>\n",
       "      <td>NaN</td>\n",
       "      <td>NaN</td>\n",
       "      <td>NaN</td>\n",
       "    </tr>\n",
       "  </tbody>\n",
       "</table>\n",
       "<p>10 rows × 28 columns</p>\n",
       "</div>"
      ],
      "text/plain": [
       "      subid package_type  num_weekly_services_utilized preferred_genre  \\\n",
       "0  21724479      economy                           NaN          comedy   \n",
       "1  23383224         base                           NaN          comedy   \n",
       "2  26844789     enhanced                           3.0        regional   \n",
       "3  29417030         base                           NaN           drama   \n",
       "4  26723159         base                           4.0          comedy   \n",
       "5  24810928         base                           NaN          comedy   \n",
       "6  29726122         base                           2.0          comedy   \n",
       "7  20299962         base                           3.0           drama   \n",
       "8  24930568         base                           NaN          comedy   \n",
       "9  23452753      economy                           3.0           drama   \n",
       "\n",
       "                  intended_use  weekly_consumption_hour  \\\n",
       "0  access to exclusive content                      NaN   \n",
       "1  access to exclusive content                22.951579   \n",
       "2                  replace OTT                36.001186   \n",
       "3                  replace OTT                20.051667   \n",
       "4                  replace OTT                22.951579   \n",
       "5  access to exclusive content                20.051667   \n",
       "6  access to exclusive content                20.051667   \n",
       "7  access to exclusive content                34.551230   \n",
       "8  access to exclusive content                25.851492   \n",
       "9                  replace OTT                28.751405   \n",
       "\n",
       "   num_ideal_streaming_services   age male_TF country attribution_technical  \\\n",
       "0                           NaN   NaN   False     UAE              facebook   \n",
       "1                           NaN  70.0   False     UAE              facebook   \n",
       "2                           2.0  25.0    True     UAE               organic   \n",
       "3                           NaN  30.0   False     UAE                search   \n",
       "4                           3.0  28.0   False     UAE             discovery   \n",
       "5                           NaN  70.0   False     UAE                  bing   \n",
       "6                           2.0  61.0   False     UAE                  bing   \n",
       "7                           2.0  23.0   False     UAE                 email   \n",
       "8                           NaN  73.0   False     UAE              facebook   \n",
       "9                           2.0  71.0   False     UAE                search   \n",
       "\n",
       "  attribution_survey  ... join_fee language      payment_type  num_trial_days  \\\n",
       "0           facebook  ...      NaN       ar  Standard Charter              14   \n",
       "1           facebook  ...   0.3303       ar               NaN              14   \n",
       "2           facebook  ...   0.1101       ar               NaN              14   \n",
       "3                 tv  ...   0.0367       ar               NaN              14   \n",
       "4            youtube  ...   0.0367       ar               NaN              14   \n",
       "5                 tv  ...   0.3303       ar           RAKBANK              14   \n",
       "6             search  ...   0.3303       ar  Standard Charter              14   \n",
       "7           referral  ...   0.0000       ar           RAKBANK              14   \n",
       "8           facebook  ...   0.6606       ar               NaN              14   \n",
       "9           facebook  ...   0.3303       ar               NaN              14   \n",
       "\n",
       "   current_sub_TF trial_completed app_opens  cust_service_mssgs  \\\n",
       "0            True            True       NaN                 NaN   \n",
       "1            True            True       NaN                 NaN   \n",
       "2           False            True       2.0                 2.0   \n",
       "3           False            True       NaN                 NaN   \n",
       "4            True            True       NaN                 NaN   \n",
       "5            True            True       NaN                 NaN   \n",
       "6            True            True      40.0                17.0   \n",
       "7            True            True     104.0                10.0   \n",
       "8            True            True       3.0                 3.0   \n",
       "9           False           False       NaN                 NaN   \n",
       "\n",
       "   num_videos_completed  num_videos_more_than_30_seconds  num_videos_rated  \\\n",
       "0                   NaN                              NaN               NaN   \n",
       "1                   NaN                              NaN               NaN   \n",
       "2                  13.0                             13.0               0.0   \n",
       "3                   NaN                              NaN               NaN   \n",
       "4                   NaN                              NaN               NaN   \n",
       "5                   NaN                              NaN               NaN   \n",
       "6                 182.0                            182.0               6.0   \n",
       "7                  84.0                            206.0               0.0   \n",
       "8                   2.0                             13.0               0.0   \n",
       "9                   NaN                              NaN               NaN   \n",
       "\n",
       "   num_series_started  \n",
       "0                 NaN  \n",
       "1                 NaN  \n",
       "2                 1.0  \n",
       "3                 NaN  \n",
       "4                 NaN  \n",
       "5                 NaN  \n",
       "6                39.0  \n",
       "7                29.0  \n",
       "8                 0.0  \n",
       "9                 NaN  \n",
       "\n",
       "[10 rows x 28 columns]"
      ]
     },
     "execution_count": 185,
     "metadata": {},
     "output_type": "execute_result"
    }
   ],
   "source": [
    "churn_df.head(10)"
   ]
  },
  {
   "cell_type": "code",
   "execution_count": 186,
   "metadata": {},
   "outputs": [],
   "source": [
    "age_median = churn_df['age'].median()\n",
    "\n",
    "churn_df['age'] = churn_df.age.apply(lambda x: age_median if x > 80 else x)\n",
    "churn_df = churn_df.loc[(churn_df[\"plan_type\"] == \"base_uae_14_day_trial\")|\n",
    "            (churn_df[\"plan_type\"] == \"high_uae_14_day_trial\")|\n",
    "            (churn_df[\"plan_type\"] == \"low_uae_no_trial\"),:]\n",
    "\n",
    "churn_df['churn_TF'] = churn_df.current_sub_TF.apply(lambda x: 1 if x == False else 0)\n",
    "churn_df.drop('current_sub_TF',axis = 1,inplace=True)\n",
    "churn_df = churn_df.fillna(0)"
   ]
  },
  {
   "cell_type": "code",
   "execution_count": 187,
   "metadata": {},
   "outputs": [
    {
     "data": {
      "text/plain": [
       "subid                              0\n",
       "package_type                       0\n",
       "num_weekly_services_utilized       0\n",
       "preferred_genre                    0\n",
       "intended_use                       0\n",
       "weekly_consumption_hour            0\n",
       "num_ideal_streaming_services       0\n",
       "age                                0\n",
       "male_TF                            0\n",
       "country                            0\n",
       "attribution_technical              0\n",
       "attribution_survey                 0\n",
       "op_sys                             0\n",
       "plan_type                          0\n",
       "monthly_price                      0\n",
       "discount_price                     0\n",
       "join_fee                           0\n",
       "language                           0\n",
       "payment_type                       0\n",
       "num_trial_days                     0\n",
       "trial_completed                    0\n",
       "app_opens                          0\n",
       "cust_service_mssgs                 0\n",
       "num_videos_completed               0\n",
       "num_videos_more_than_30_seconds    0\n",
       "num_videos_rated                   0\n",
       "num_series_started                 0\n",
       "churn_TF                           0\n",
       "dtype: int64"
      ]
     },
     "execution_count": 187,
     "metadata": {},
     "output_type": "execute_result"
    }
   ],
   "source": [
    "churn_df.isnull().sum()"
   ]
  },
  {
   "cell_type": "code",
   "execution_count": null,
   "metadata": {},
   "outputs": [],
   "source": []
  },
  {
   "cell_type": "code",
   "execution_count": 261,
   "metadata": {},
   "outputs": [
    {
     "data": {
      "text/plain": [
       "0.2202    68109\n",
       "0.0734      109\n",
       "0.0367       59\n",
       "Name: price_diff, dtype: int64"
      ]
     },
     "execution_count": 261,
     "metadata": {},
     "output_type": "execute_result"
    }
   ],
   "source": [
    "churn_df_test ['price_diff'] = churn_df_test ['monthly_price'] - churn_df_test ['discount_price']\n",
    "churn_df_test ['price_diff'].value_counts()"
   ]
  },
  {
   "cell_type": "code",
   "execution_count": 263,
   "metadata": {},
   "outputs": [
    {
     "data": {
      "text/plain": [
       "4.7343    68109\n",
       "5.1013      109\n",
       "1.0643       59\n",
       "Name: monthly_price, dtype: int64"
      ]
     },
     "execution_count": 263,
     "metadata": {},
     "output_type": "execute_result"
    }
   ],
   "source": [
    "churn_df_test ['monthly_price'].value_counts()"
   ]
  },
  {
   "cell_type": "code",
   "execution_count": 191,
   "metadata": {},
   "outputs": [],
   "source": [
    "# split\n",
    "churn_df_train, churn_df_test = model_selection.train_test_split(churn_df, test_size=0.3, random_state=100)\n",
    "\n",
    "y_train = churn_df_train['churn_TF']\n",
    "x_train = churn_df_train.drop('churn_TF',axis = 1)\n",
    "y_test = churn_df_test['churn_TF']\n",
    "x_test = churn_df_test.drop('churn_TF',axis = 1)"
   ]
  },
  {
   "cell_type": "code",
   "execution_count": 253,
   "metadata": {},
   "outputs": [
    {
     "data": {
      "text/plain": [
       "['subid',\n",
       " 'num_weekly_services_utilized',\n",
       " 'weekly_consumption_hour',\n",
       " 'num_ideal_streaming_services',\n",
       " 'age',\n",
       " 'monthly_price',\n",
       " 'discount_price',\n",
       " 'join_fee',\n",
       " 'num_trial_days',\n",
       " 'trial_completed',\n",
       " 'app_opens',\n",
       " 'cust_service_mssgs',\n",
       " 'num_videos_completed',\n",
       " 'num_videos_more_than_30_seconds',\n",
       " 'num_videos_rated',\n",
       " 'num_series_started']"
      ]
     },
     "execution_count": 253,
     "metadata": {},
     "output_type": "execute_result"
    }
   ],
   "source": [
    "numeric_features"
   ]
  },
  {
   "cell_type": "code",
   "execution_count": 254,
   "metadata": {},
   "outputs": [
    {
     "data": {
      "text/plain": [
       "['package_type',\n",
       " 'preferred_genre',\n",
       " 'intended_use',\n",
       " 'male_TF',\n",
       " 'country',\n",
       " 'attribution_technical',\n",
       " 'attribution_survey',\n",
       " 'op_sys',\n",
       " 'plan_type',\n",
       " 'language',\n",
       " 'payment_type']"
      ]
     },
     "execution_count": 254,
     "metadata": {},
     "output_type": "execute_result"
    }
   ],
   "source": [
    "categorical_features"
   ]
  },
  {
   "cell_type": "code",
   "execution_count": 192,
   "metadata": {},
   "outputs": [],
   "source": [
    "# display numerical variables\n",
    "numeric_features = list(x_train.columns[x_train.dtypes != object])\n",
    "\n",
    "# display categorical variables\n",
    "categorical_features = list(x_train.columns[x_train.dtypes == object])\n",
    "\n",
    "# split categorical_features and numeric_features\n",
    "x_train_cat = x_train.loc[:,categorical_features].astype('str') \n",
    "x_train_num = x_train.loc[:,numeric_features]\n",
    "\n",
    "x_test_cat =  x_test.loc[:,categorical_features].astype('str')\n",
    "x_test_num = x_test.loc[:,numeric_features]\n",
    "\n",
    "# one-hot encoding for categorical variables\n",
    "one_hot = OneHotEncoder(sparse=False)\n",
    "x_train_cat = pd.DataFrame(one_hot.fit_transform(x_train_cat))\n",
    "x_test_cat = pd.DataFrame(one_hot.transform(x_test_cat))\n",
    "\n",
    "# normalize numerical features\n",
    "scaler = MinMaxScaler()\n",
    "x_train_num = pd.DataFrame(scaler.fit_transform(x_train_num))\n",
    "x_test_num = pd.DataFrame(scaler.transform(x_test_num))\n",
    "\n",
    "x_train_scale = pd.concat([x_train_cat,x_train_num],axis=1)\n",
    "x_test_scale =  pd.concat([x_test_cat,x_test_num],axis=1)"
   ]
  },
  {
   "cell_type": "code",
   "execution_count": 193,
   "metadata": {},
   "outputs": [
    {
     "name": "stdout",
     "output_type": "stream",
     "text": [
      "Model auc: 0.946568\n",
      "Model accuracy score: 0.874379\n"
     ]
    },
    {
     "name": "stderr",
     "output_type": "stream",
     "text": [
      "/Users/liujingyun/opt/anaconda3/lib/python3.8/site-packages/sklearn/linear_model/_logistic.py:444: ConvergenceWarning: lbfgs failed to converge (status=1):\n",
      "STOP: TOTAL NO. of ITERATIONS REACHED LIMIT.\n",
      "\n",
      "Increase the number of iterations (max_iter) or scale the data as shown in:\n",
      "    https://scikit-learn.org/stable/modules/preprocessing.html\n",
      "Please also refer to the documentation for alternative solver options:\n",
      "    https://scikit-learn.org/stable/modules/linear_model.html#logistic-regression\n",
      "  n_iter_i = _check_optimize_result(\n"
     ]
    }
   ],
   "source": [
    "log_reg = LogisticRegression(random_state=22)\n",
    "log_reg.fit(x_train_scale,y_train)\n",
    "\n",
    "lr_predictions = log_reg.predict(x_test_scale)\n",
    "lr_predictions_probs = log_reg.predict_proba(x_test_scale)[:, 1]\n",
    "lr_auc = roc_auc_score(y_test, lr_predictions_probs)\n",
    "print('Model auc: {0:0.6f}'.format(lr_auc))\n",
    "print('Model accuracy score: {0:0.6f}'.format(accuracy_score(y_test, lr_predictions)))"
   ]
  },
  {
   "cell_type": "code",
   "execution_count": 194,
   "metadata": {},
   "outputs": [
    {
     "data": {
      "image/png": "[encoded data removed]",
      "text/plain": [
       "<Figure size 360x360 with 1 Axes>"
      ]
     },
     "metadata": {
      "needs_background": "light"
     },
     "output_type": "display_data"
    }
   ],
   "source": [
    "plt.figure(figsize=(5, 5))\n",
    "\n",
    "fpr, tpr, _ = roc_curve(y_test, lr_predictions_probs)\n",
    "plt.plot(fpr, tpr, color='darkgreen')\n",
    "\n",
    "plt.plot([0, 1], [0, 1], color='black', lw=0.7, linestyle='dashed', alpha=0.5)\n",
    "\n",
    "plt.xlim([-0.02, 1.02])\n",
    "plt.ylim([-0.02, 1.02])\n",
    "plt.xlabel('False Positive Rate')\n",
    "plt.ylabel('True Positive Rate')\n",
    "\n",
    "plt.title('Logistic Regression ROC curve')\n",
    "\n",
    "plt.show()"
   ]
  },
  {
   "cell_type": "code",
   "execution_count": 195,
   "metadata": {},
   "outputs": [],
   "source": [
    "x_train_new = pd.concat([x_train_cat,x_train_num],axis=1)\n",
    "x_test_new =  pd.concat([x_test_cat,x_test_num],axis=1)"
   ]
  },
  {
   "cell_type": "code",
   "execution_count": 196,
   "metadata": {},
   "outputs": [],
   "source": [
    "log_reg = LogisticRegression(max_iter=100000)\n",
    "log_reg.fit(x_train_new,y_train)\n",
    "\n",
    "y_pred_test = log_reg.predict(x_test_new)\n",
    "\n",
    "y_pred_proba = log_reg.predict_proba(x_test_new)[:, 1]"
   ]
  },
  {
   "cell_type": "code",
   "execution_count": 198,
   "metadata": {},
   "outputs": [],
   "source": [
    "y_train = y_train.reset_index()['churn_TF']\n",
    "y_test = y_test.reset_index()['churn_TF']"
   ]
  },
  {
   "cell_type": "code",
   "execution_count": 238,
   "metadata": {},
   "outputs": [],
   "source": [
    "from sklearn.linear_model import LogisticRegression\n",
    "from sklearn.metrics import roc_auc_score\n",
    "from sklearn.metrics import roc_curve\n",
    "log_reg = LogisticRegression(max_iter=100000)\n",
    "log_reg.fit(x_train_new,y_train)\n",
    "\n",
    "y_pred_test = log_reg.predict(x_test_new)\n",
    "\n",
    "y_pred_proba = log_reg.predict_proba(x_test_new)[:, 1]"
   ]
  },
  {
   "cell_type": "code",
   "execution_count": 239,
   "metadata": {},
   "outputs": [],
   "source": [
    "prob_churn_logit = y_pred_proba"
   ]
  },
  {
   "cell_type": "code",
   "execution_count": 240,
   "metadata": {},
   "outputs": [
    {
     "name": "stdout",
     "output_type": "stream",
     "text": [
      "\n",
      "RESULTS OF LOGIT MODEL FITTING\n",
      "\n",
      "                            OLS Regression Results                            \n",
      "==============================================================================\n",
      "Dep. Variable:               churn_TF   R-squared:                       0.551\n",
      "Model:                            OLS   Adj. R-squared:                  0.551\n",
      "Method:                 Least Squares   F-statistic:                     2225.\n",
      "Date:                Fri, 23 Dec 2022   Prob (F-statistic):               0.00\n",
      "Time:                        02:10:00   Log-Likelihood:                -50045.\n",
      "No. Observations:              159311   AIC:                         1.003e+05\n",
      "Df Residuals:                  159222   BIC:                         1.012e+05\n",
      "Df Model:                          88                                         \n",
      "Covariance Type:            nonrobust                                         \n",
      "==============================================================================\n",
      "                 coef    std err          t      P>|t|      [0.025      0.975]\n",
      "------------------------------------------------------------------------------\n",
      "0           1.008e+09   1.32e+09      0.766      0.444   -1.57e+09    3.59e+09\n",
      "1           1.008e+09   1.32e+09      0.766      0.444   -1.57e+09    3.59e+09\n",
      "2           1.008e+09   1.32e+09      0.766      0.444   -1.57e+09    3.59e+09\n",
      "3           1.008e+09   1.32e+09      0.766      0.444   -1.57e+09    3.59e+09\n",
      "4          -2.251e+10   2.94e+10     -0.766      0.444   -8.01e+10    3.51e+10\n",
      "5          -2.251e+10   2.94e+10     -0.766      0.444   -8.01e+10    3.51e+10\n",
      "6          -2.251e+10   2.94e+10     -0.766      0.444   -8.01e+10    3.51e+10\n",
      "7          -2.251e+10   2.94e+10     -0.766      0.444   -8.01e+10    3.51e+10\n",
      "8          -2.251e+10   2.94e+10     -0.766      0.444   -8.01e+10    3.51e+10\n",
      "9          -2.251e+10   2.94e+10     -0.766      0.444   -8.01e+10    3.51e+10\n",
      "10          2.448e+08    3.2e+08      0.766      0.444   -3.82e+08    8.71e+08\n",
      "11          2.448e+08    3.2e+08      0.766      0.444   -3.82e+08    8.71e+08\n",
      "12          2.448e+08    3.2e+08      0.766      0.444   -3.82e+08    8.71e+08\n",
      "13          2.448e+08    3.2e+08      0.766      0.444   -3.82e+08    8.71e+08\n",
      "14          2.448e+08    3.2e+08      0.766      0.444   -3.82e+08    8.71e+08\n",
      "15          2.448e+08    3.2e+08      0.766      0.444   -3.82e+08    8.71e+08\n",
      "16          2.448e+08    3.2e+08      0.766      0.444   -3.82e+08    8.71e+08\n",
      "17          2.448e+08    3.2e+08      0.766      0.444   -3.82e+08    8.71e+08\n",
      "18          1.845e+09   2.41e+09      0.766      0.444   -2.88e+09    6.57e+09\n",
      "19          1.845e+09   2.41e+09      0.766      0.444   -2.88e+09    6.57e+09\n",
      "20          1.845e+09   2.41e+09      0.766      0.444   -2.88e+09    6.57e+09\n",
      "21          6.969e+09    9.1e+09      0.766      0.444   -1.09e+10    2.48e+10\n",
      "22          1.049e+08   1.37e+08      0.766      0.444   -1.64e+08    3.73e+08\n",
      "23          1.049e+08   1.37e+08      0.766      0.444   -1.64e+08    3.73e+08\n",
      "24          1.049e+08   1.37e+08      0.766      0.444   -1.64e+08    3.73e+08\n",
      "25          1.049e+08   1.37e+08      0.766      0.444   -1.64e+08    3.73e+08\n",
      "26          1.049e+08   1.37e+08      0.766      0.444   -1.64e+08    3.73e+08\n",
      "27          1.049e+08   1.37e+08      0.766      0.444   -1.64e+08    3.73e+08\n",
      "28          1.049e+08   1.37e+08      0.766      0.444   -1.64e+08    3.73e+08\n",
      "29          1.049e+08   1.37e+08      0.766      0.444   -1.64e+08    3.73e+08\n",
      "30          1.049e+08   1.37e+08      0.766      0.444   -1.64e+08    3.73e+08\n",
      "31          1.049e+08   1.37e+08      0.766      0.444   -1.64e+08    3.73e+08\n",
      "32          1.049e+08   1.37e+08      0.766      0.444   -1.64e+08    3.73e+08\n",
      "33          1.049e+08   1.37e+08      0.766      0.444   -1.64e+08    3.73e+08\n",
      "34          1.049e+08   1.37e+08      0.766      0.444   -1.64e+08    3.73e+08\n",
      "35          1.049e+08   1.37e+08      0.766      0.444   -1.64e+08    3.73e+08\n",
      "36          1.049e+08   1.37e+08      0.766      0.444   -1.64e+08    3.73e+08\n",
      "37          1.049e+08   1.37e+08      0.766      0.444   -1.64e+08    3.73e+08\n",
      "38          1.049e+08   1.37e+08      0.766      0.444   -1.64e+08    3.73e+08\n",
      "39          1.049e+08   1.37e+08      0.766      0.444   -1.64e+08    3.73e+08\n",
      "40          1.049e+08   1.37e+08      0.766      0.444   -1.64e+08    3.73e+08\n",
      "41          1.049e+08   1.37e+08      0.766      0.444   -1.64e+08    3.73e+08\n",
      "42          1.049e+08   1.37e+08      0.766      0.444   -1.64e+08    3.73e+08\n",
      "43          1.049e+08   1.37e+08      0.766      0.444   -1.64e+08    3.73e+08\n",
      "44          1.049e+08   1.37e+08      0.766      0.444   -1.64e+08    3.73e+08\n",
      "45          1.049e+08   1.37e+08      0.766      0.444   -1.64e+08    3.73e+08\n",
      "46          1.049e+08   1.37e+08      0.766      0.444   -1.64e+08    3.73e+08\n",
      "47          1.049e+08   1.37e+08      0.766      0.444   -1.64e+08    3.73e+08\n",
      "48          1.049e+08   1.37e+08      0.766      0.444   -1.64e+08    3.73e+08\n",
      "49          1.049e+08   1.37e+08      0.766      0.444   -1.64e+08    3.73e+08\n",
      "50          1.049e+08   1.37e+08      0.766      0.444   -1.64e+08    3.73e+08\n",
      "51          1.049e+08   1.37e+08      0.766      0.444   -1.64e+08    3.73e+08\n",
      "52          1.049e+08   1.37e+08      0.766      0.444   -1.64e+08    3.73e+08\n",
      "53          1.049e+08   1.37e+08      0.766      0.444   -1.64e+08    3.73e+08\n",
      "54          1.049e+08   1.37e+08      0.766      0.444   -1.64e+08    3.73e+08\n",
      "55            2.3e+08      3e+08      0.766      0.444   -3.59e+08    8.19e+08\n",
      "56            2.3e+08      3e+08      0.766      0.444   -3.59e+08    8.19e+08\n",
      "57            2.3e+08      3e+08      0.766      0.444   -3.59e+08    8.19e+08\n",
      "58            2.3e+08      3e+08      0.766      0.444   -3.59e+08    8.19e+08\n",
      "59            2.3e+08      3e+08      0.766      0.444   -3.59e+08    8.19e+08\n",
      "60            2.3e+08      3e+08      0.766      0.444   -3.59e+08    8.19e+08\n",
      "61            2.3e+08      3e+08      0.766      0.444   -3.59e+08    8.19e+08\n",
      "62            2.3e+08      3e+08      0.766      0.444   -3.59e+08    8.19e+08\n",
      "63            2.3e+08      3e+08      0.766      0.444   -3.59e+08    8.19e+08\n",
      "64            2.3e+08      3e+08      0.766      0.444   -3.59e+08    8.19e+08\n",
      "65            2.3e+08      3e+08      0.766      0.444   -3.59e+08    8.19e+08\n",
      "66            2.3e+08      3e+08      0.766      0.444   -3.59e+08    8.19e+08\n",
      "67            2.3e+08      3e+08      0.766      0.444   -3.59e+08    8.19e+08\n",
      "68            2.3e+08      3e+08      0.766      0.444   -3.59e+08    8.19e+08\n",
      "69            2.3e+08      3e+08      0.766      0.444   -3.59e+08    8.19e+08\n",
      "70            2.3e+08      3e+08      0.766      0.444   -3.59e+08    8.19e+08\n",
      "71            2.3e+08      3e+08      0.766      0.444   -3.59e+08    8.19e+08\n",
      "72          1.569e+09   2.05e+09      0.766      0.444   -2.45e+09    5.59e+09\n",
      "73          1.569e+09   2.05e+09      0.766      0.444   -2.45e+09    5.59e+09\n",
      "74          1.569e+09   2.05e+09      0.766      0.444   -2.45e+09    5.59e+09\n",
      "75           1.41e+09   1.84e+09      0.766      0.444    -2.2e+09    5.02e+09\n",
      "76          1.336e+09   1.75e+09      0.766      0.444   -2.08e+09    4.76e+09\n",
      "77          3.084e+09   4.03e+09      0.766      0.444   -4.81e+09     1.1e+10\n",
      "78          6.995e+09   9.13e+09      0.766      0.444   -1.09e+10    2.49e+10\n",
      "79           4.62e+08   6.03e+08      0.766      0.444   -7.21e+08    1.64e+09\n",
      "80           4.62e+08   6.03e+08      0.766      0.444   -7.21e+08    1.64e+09\n",
      "81           4.62e+08   6.03e+08      0.766      0.444   -7.21e+08    1.64e+09\n",
      "82           4.62e+08   6.03e+08      0.766      0.444   -7.21e+08    1.64e+09\n",
      "83           4.62e+08   6.03e+08      0.766      0.444   -7.21e+08    1.64e+09\n",
      "84           4.62e+08   6.03e+08      0.766      0.444   -7.21e+08    1.64e+09\n",
      "85           4.62e+08   6.03e+08      0.766      0.444   -7.21e+08    1.64e+09\n",
      "0              0.0012      0.003      0.409      0.683      -0.004       0.007\n",
      "1             -2.3682      0.022   -106.600      0.000      -2.412      -2.325\n",
      "2             -0.8003      0.014    -58.673      0.000      -0.827      -0.774\n",
      "3              1.8910      0.020     95.473      0.000       1.852       1.930\n",
      "4              0.4612      0.005     92.766      0.000       0.451       0.471\n",
      "5          -1.097e+09   1.43e+09     -0.766      0.444   -3.91e+09    1.71e+09\n",
      "6           1.348e+09   1.76e+09      0.766      0.444    -2.1e+09     4.8e+09\n",
      "7             -0.1647      0.008    -21.322      0.000      -0.180      -0.150\n",
      "8           1.497e+09   1.95e+09      0.766      0.444   -2.33e+09    5.33e+09\n",
      "9             -0.2960      0.003   -109.839      0.000      -0.301      -0.291\n",
      "10            -0.0465      0.041     -1.148      0.251      -0.126       0.033\n",
      "11            -0.0353      0.032     -1.103      0.270      -0.098       0.027\n",
      "12             0.0109      0.018      0.623      0.533      -0.023       0.045\n",
      "13             0.0679      0.023      2.901      0.004       0.022       0.114\n",
      "14            -0.0329      0.049     -0.675      0.500      -0.128       0.063\n",
      "15             0.0008      0.021      0.040      0.968      -0.040       0.041\n",
      "==============================================================================\n",
      "Omnibus:                     1287.427   Durbin-Watson:                   1.996\n",
      "Prob(Omnibus):                  0.000   Jarque-Bera (JB):             1089.029\n",
      "Skew:                           0.143   Prob(JB):                    3.31e-237\n",
      "Kurtosis:                       2.713   Cond. No.                     2.39e+16\n",
      "==============================================================================\n",
      "\n",
      "Notes:\n",
      "[1] Standard Errors assume that the covariance matrix of the errors is correctly specified.\n",
      "[2] The smallest eigenvalue is 2.98e-27. This might indicate that there are\n",
      "strong multicollinearity problems or that the design matrix is singular.\n"
     ]
    }
   ],
   "source": [
    "# --- fit linear probability model\n",
    "lpm_model = sm.OLS(endog=y_train, exog=x_train_new)\n",
    "lpm_results = lpm_model.fit()\n",
    "print(\"\\nRESULTS OF LOGIT MODEL FITTING\\n\")\n",
    "print(lpm_results.summary())"
   ]
  },
  {
   "cell_type": "code",
   "execution_count": 243,
   "metadata": {},
   "outputs": [],
   "source": [
    "prob_churn_lpm = lpm_results.predict(x_test_new)"
   ]
  },
  {
   "cell_type": "code",
   "execution_count": 244,
   "metadata": {},
   "outputs": [],
   "source": [
    "# ------ DEFINE FUNCTIONS -----\n",
    "def apply_offers(df, threshold, base_price, discount_amount, cases, acceptance_rate_churn, acceptance_rate_nonchurn):\n",
    "    df_f = copy.deepcopy(df)\n",
    "\n",
    "    # set offer parameters for all observations\n",
    "    df_f['price_no_offer'] = base_price\n",
    "    df_f.loc[df_f['churn_TF'] == 1, 'price_no_offer'] = 0  # if the person churns they will pay 0\n",
    "\n",
    "    # determine whether indiviudals accept offer\n",
    "    df_f.loc[df_f['churn_TF'] == 1, 'accept_offer_prob'] = acceptance_rate_churn  # those who were going to churn are less likely to want the offer than those who were going to stay\n",
    "    df_f.loc[df_f['churn_TF'] == 0, 'accept_offer_prob'] = acceptance_rate_nonchurn\n",
    "    df_f['would_accept_offer_rand_draw'] = (df_f['random_draws'] < df_f['accept_offer_prob'])  # randomly select the individuals who would accept an offer based on their probability of acceptance\n",
    "\n",
    "    # make offer under lpm predictions for select threshold\n",
    "    df_f['make_offer_lpm'] = (df_f['prob_churn_lpm'] > threshold)     # predict whether individual will churn or not\n",
    "    df_f['accept_offer_lpm'] = (df_f['make_offer_lpm'] & df_f['would_accept_offer_rand_draw'])\n",
    "    df_f['price_lpm_offer'] = df_f['price_no_offer']  # initialize prices from \"do nothing case\"\n",
    "    df_f.loc[df_f['accept_offer_lpm'], 'price_lpm_offer'] = base_price * (1-discount_amount)    # for those who were both made an offer and would accept, set prices to discounted price\n",
    "\n",
    "    # make offer under logit predictions for select threshold\n",
    "    df_f['make_offer_logit'] = (df_f['prob_churn_logit'] > threshold)     # predict whether individual will churn or not\n",
    "    df_f['accept_offer_logit'] = (df_f['make_offer_logit'] & df_f['would_accept_offer_rand_draw'])\n",
    "    df_f['price_logit_offer'] = df_f['price_no_offer']  # initialize prices from \"do nothing case\"\n",
    "    df_f.loc[df_f['accept_offer_logit'], 'price_logit_offer'] = base_price * (1-discount_amount)    # for those who were both made an offer and would accept, set prices to discounted price\n",
    "\n",
    "    df_impact = pd.DataFrame(index=cases, columns=['subs', 'revenue', 'lift_from_no_offer'])\n",
    "    for c in cases:\n",
    "        df_impact.loc[c, 'subs'] = (df_f['price_' + c] > 0).sum()\n",
    "        df_impact.loc[c, 'revenue'] = df_f['price_' + c].sum()\n",
    "    for c in cases:\n",
    "        df_impact.loc[c, 'lift_from_no_offer'] = df_impact.loc[c, 'revenue'] / df_impact.loc['no_offer', 'revenue'] - 1\n",
    "\n",
    "    return df_f, df_impact\n"
   ]
  },
  {
   "cell_type": "code",
   "execution_count": 245,
   "metadata": {},
   "outputs": [],
   "source": [
    "def get_gini_info(actual, pred_prob):\n",
    "    # format[[obs0_pred0, obs0_pred1], [obs1_pred0, obs1_pred1]]; rows (i) are observed, columns (j) are predicted\n",
    "    confusion_matrix_list = list()\n",
    "    for t in [x / 100 for x in range(0, 100, 33)]:\n",
    "        pred = [1 if (x > t) else 0 for x in pred_prob]\n",
    "        confusion_matrix_list.append(confusion_matrix(actual, pred))\n",
    "        # confusion_matrix_list.append(model.pred_table(threshold=t))\n",
    "\n",
    "    # create Gini coefficient plots\n",
    "    false_positives = list()\n",
    "    true_positives = list()\n",
    "    for t in confusion_matrix_list:\n",
    "        true_positives.append(t[1, 1])\n",
    "        false_positives.append(t[0, 1])\n",
    "\n",
    "    return confusion_matrix_list, false_positives, true_positives\n"
   ]
  },
  {
   "cell_type": "code",
   "execution_count": 208,
   "metadata": {},
   "outputs": [
    {
     "data": {
      "text/plain": [
       "<matplotlib.legend.Legend at 0x7fc806f00910>"
      ]
     },
     "execution_count": 208,
     "metadata": {},
     "output_type": "execute_result"
    },
    {
     "data": {
      "image/png": "[encoded data removed]",
      "text/plain": [
       "<Figure size 432x288 with 1 Axes>"
      ]
     },
     "metadata": {
      "needs_background": "light"
     },
     "output_type": "display_data"
    }
   ],
   "source": [
    "# --- evaluate model predictions using numerical quantification (ROC curves)\n",
    "# make confusion matrices\n",
    "logit_conf_mat, logit_false_positives, logit_true_positives = get_gini_info(y_test, prob_churn_logit)\n",
    "lpm_conf_mat, lpm_false_positives, lpm_true_positives = get_gini_info(y_test, prob_churn_lpm)\n",
    "# plot ROC curves\n",
    "fig = plt.figure()\n",
    "ax1 = plt.gca()\n",
    "ax1.plot(lpm_false_positives, lpm_true_positives, 'b-')\n",
    "ax1.plot(logit_false_positives, logit_true_positives, 'r-')\n",
    "plt.title('ROC curves')\n",
    "plt.xlabel('False positives (positive=churn)')\n",
    "plt.ylabel('True positives (positive=churn)')\n",
    "plt.legend(labels=['Linear probability model', 'Logit probability'])"
   ]
  },
  {
   "cell_type": "code",
   "execution_count": 230,
   "metadata": {},
   "outputs": [
    {
     "data": {
      "text/plain": [
       "<matplotlib.legend.Legend at 0x7fc7dabc9670>"
      ]
     },
     "execution_count": 230,
     "metadata": {},
     "output_type": "execute_result"
    },
    {
     "data": {
      "image/png": "[encoded data removed]",
      "text/plain": [
       "<Figure size 432x288 with 1 Axes>"
      ]
     },
     "metadata": {
      "needs_background": "light"
     },
     "output_type": "display_data"
    }
   ],
   "source": [
    "# --- evaluate model predictions using numerical quantification (ROC curves)\n",
    "# make confusion matrices\n",
    "# logit_conf_mat, logit_false_positives, logit_true_positives = get_gini_info(y_test, prob_churn_logit)\n",
    "logit_conf_mat, logit_false_positives, logit_true_positives = get_gini_info(churn_df_test['churn_TF'], churn_df_test['prob_churn_logit'])\n",
    "lpm_conf_mat, lpm_false_positives, lpm_true_positives = get_gini_info(y_test, prob_churn_lpm)\n",
    "# plot ROC curves\n",
    "fig = plt.figure()\n",
    "ax1 = plt.gca()\n",
    "ax1.plot(lpm_false_positives, lpm_true_positives, 'b-')\n",
    "ax1.plot(logit_false_positives, logit_true_positives, 'r-')\n",
    "plt.title('ROC curves')\n",
    "plt.xlabel('False positives (positive=churn)')\n",
    "plt.ylabel('True positives (positive=churn)')\n",
    "plt.legend(labels=['Linear probability model', 'Logit probability'])"
   ]
  },
  {
   "cell_type": "code",
   "execution_count": 212,
   "metadata": {},
   "outputs": [],
   "source": [
    "auc_logit = roc_auc_score(y_test, prob_churn_logit)\n",
    "auc_lpm = roc_auc_score(y_test, prob_churn_lpm)"
   ]
  },
  {
   "cell_type": "code",
   "execution_count": 213,
   "metadata": {},
   "outputs": [
    {
     "data": {
      "text/plain": [
       "0.9465694809296643"
      ]
     },
     "execution_count": 213,
     "metadata": {},
     "output_type": "execute_result"
    }
   ],
   "source": [
    "auc_logit"
   ]
  },
  {
   "cell_type": "code",
   "execution_count": 214,
   "metadata": {},
   "outputs": [
    {
     "data": {
      "text/plain": [
       "0.9434522940929434"
      ]
     },
     "execution_count": 214,
     "metadata": {},
     "output_type": "execute_result"
    }
   ],
   "source": [
    "auc_lpm"
   ]
  },
  {
   "cell_type": "code",
   "execution_count": 249,
   "metadata": {},
   "outputs": [],
   "source": [
    "\n",
    "churn_df_test['prob_churn_lpm'] = prob_churn_lpm\n",
    "churn_df_test['prob_churn_logit'] = prob_churn_logit\n",
    "# churn_df_test['churn_TF'] = churn_df_test['conversion']"
   ]
  },
  {
   "cell_type": "code",
   "execution_count": 250,
   "metadata": {},
   "outputs": [],
   "source": [
    "# ----- TEST RETENTION OFFER SCENARIOS -----\n",
    "# evaluate the impact of an offer\n",
    "acceptance_rate_nonchurn = 1\n",
    "acceptance_rate_churn = 0.3\n",
    "threshold = 0.5\n",
    "base_price = churn_df['monthly_price'].median()\n",
    "discount_amount = 0.05\n",
    "cases = ['no_offer', 'logit_offer', 'lpm_offer']"
   ]
  },
  {
   "cell_type": "code",
   "execution_count": 251,
   "metadata": {},
   "outputs": [
    {
     "name": "stdout",
     "output_type": "stream",
     "text": [
      "              subs       revenue lift_from_no_offer\n",
      "no_offer     38962   184457.7966                0.0\n",
      "logit_offer  46334  216719.21052           0.174899\n",
      "lpm_offer    46206  216155.82882           0.171844\n"
     ]
    }
   ],
   "source": [
    "# draw whether individual would accept an offer or not - assume probability of acceptance is independent of offer attractiveness\n",
    "churn_df_test['random_draws'] = np.random.random(churn_df_test.shape[0])\n",
    "\n",
    "# base assessment\n",
    "df_test, df_impact = apply_offers(churn_df_test, threshold, base_price, discount_amount, cases, acceptance_rate_churn, acceptance_rate_nonchurn)\n",
    "\n",
    "print(df_impact)\n",
    "\n",
    "# test sensitivity to thresholds\n",
    "df_lift_threshold = pd.DataFrame(index=range(0, 100, 1), columns=['threshold'] + cases)\n",
    "for t_ind in df_lift_threshold.index:\n",
    "    t_threshold = t_ind / 100\n",
    "    _, t_df_impact = apply_offers(df_test, t_threshold, base_price, discount_amount, cases, acceptance_rate_churn, acceptance_rate_nonchurn)\n",
    "\n",
    "    df_lift_threshold.loc[t_ind, 'threshold'] = t_threshold\n",
    "    df_lift_threshold.loc[t_ind, cases] = t_df_impact.loc[cases, 'lift_from_no_offer']\n",
    "del t_df_impact, t_threshold, t_ind\n",
    "\n",
    "# test sensitivity to acceptance rate for churners\n",
    "df_lift_acceptance_rate_churn = pd.DataFrame(index=range(0, 100, 1), columns=['acceptance_rate_churn'] + cases)\n",
    "for t_ind in df_lift_acceptance_rate_churn.index:\n",
    "    t_acceptance_rate_churn = t_ind / 100\n",
    "    _, t_df_impact = apply_offers(df_test, threshold, base_price, discount_amount, cases, t_acceptance_rate_churn, acceptance_rate_nonchurn)\n",
    "\n",
    "    df_lift_acceptance_rate_churn.loc[t_ind, 'acceptance_rate_churn'] = t_acceptance_rate_churn\n",
    "    df_lift_acceptance_rate_churn.loc[t_ind, cases] = t_df_impact.loc[cases, 'lift_from_no_offer']\n",
    "del t_df_impact, t_acceptance_rate_churn, t_ind\n",
    "\n",
    "\n",
    "# test sensitivity to offer discount amount\n",
    "df_lift_discount_amount = pd.DataFrame(index=range(0, 100, 1), columns=['discount_amount'] + cases)\n",
    "for t_ind in df_lift_discount_amount.index:\n",
    "    t_discount_amount = t_ind / 100\n",
    "    _, t_df_impact = apply_offers(df_test, threshold, base_price, t_discount_amount, cases, acceptance_rate_churn, acceptance_rate_nonchurn)\n",
    "\n",
    "    df_lift_discount_amount.loc[t_ind, 'discount_amount'] = t_discount_amount\n",
    "    df_lift_discount_amount.loc[t_ind, cases] = t_df_impact.loc[cases, 'lift_from_no_offer']\n",
    "del t_df_impact, t_discount_amount, t_ind"
   ]
  },
  {
   "cell_type": "code",
   "execution_count": 252,
   "metadata": {},
   "outputs": [
    {
     "data": {
      "text/plain": [
       "<matplotlib.legend.Legend at 0x7fc7c4c115b0>"
      ]
     },
     "execution_count": 252,
     "metadata": {},
     "output_type": "execute_result"
    },
    {
     "data": {
      "image/png": "[encoded data removed]",
      "text/plain": [
       "<Figure size 432x288 with 1 Axes>"
      ]
     },
     "metadata": {
      "needs_background": "light"
     },
     "output_type": "display_data"
    },
    {
     "data": {
      "image/png": "[encoded data removed]",
      "text/plain": [
       "<Figure size 432x288 with 1 Axes>"
      ]
     },
     "metadata": {
      "needs_background": "light"
     },
     "output_type": "display_data"
    },
    {
     "data": {
      "image/png": "[encoded data removed]",
      "text/plain": [
       "<Figure size 432x288 with 1 Axes>"
      ]
     },
     "metadata": {
      "needs_background": "light"
     },
     "output_type": "display_data"
    }
   ],
   "source": [
    " # --- plot lift curves\n",
    "# Threshold sensitivity\n",
    "fig = plt.figure()\n",
    "ax1 = plt.gca()\n",
    "ax1.plot(df_lift_threshold['threshold'], df_lift_threshold['lpm_offer'], 'b-')\n",
    "ax1.plot(df_lift_threshold['threshold'], df_lift_threshold['logit_offer'], 'r-')\n",
    "plt.title('Lift curves')\n",
    "plt.xlabel('Threshold probability for predicting customer churns')\n",
    "plt.ylabel('Revenue lift from base scenario of making no retention offer')\n",
    "plt.legend(labels=['Linear probability model', 'Logit probability'])\n",
    "\n",
    "# Acceptance rate sensitivity\n",
    "fig = plt.figure()\n",
    "ax1 = plt.gca()\n",
    "ax1.plot(df_lift_acceptance_rate_churn['acceptance_rate_churn'], df_lift_acceptance_rate_churn['lpm_offer'], 'b-')\n",
    "ax1.plot(df_lift_acceptance_rate_churn['acceptance_rate_churn'], df_lift_acceptance_rate_churn['logit_offer'], 'r-')\n",
    "plt.title('Lift curves')\n",
    "plt.xlabel('Offer acceptance rate for those who would churn')\n",
    "plt.ylabel('Revenue lift from base scenario of making no retention offer')\n",
    "plt.legend(labels=['Linear probabildf_testity model', 'Logit probability'])\n",
    "\n",
    "# Discount amount sensitivity\n",
    "fig = plt.figure()\n",
    "ax1 = plt.gca()\n",
    "ax1.plot(df_lift_discount_amount['discount_amount'], df_lift_discount_amount['lpm_offer'], 'b-')\n",
    "ax1.plot(df_lift_discount_amount['discount_amount'], df_lift_discount_amount['logit_offer'], 'r-')\n",
    "plt.title('Lift curves')\n",
    "plt.xlabel('Offer discount amount')\n",
    "plt.ylabel('Revenue lift from base scenario of making no retention offer')\n",
    "plt.legend(labels=['Linear probability model', 'Logit probability'])"
   ]
  },
  {
   "cell_type": "code",
   "execution_count": 175,
   "metadata": {},
   "outputs": [],
   "source": [
    "churn_df['discount'] = churn_df['discount_price'] / churn_df['monthly_price']"
   ]
  },
  {
   "cell_type": "code",
   "execution_count": 176,
   "metadata": {},
   "outputs": [
    {
     "data": {
      "text/plain": [
       "0.953488    227096\n",
       "0.985612       325\n",
       "0.965517       167\n",
       "0.950413        18\n",
       "0.932773        12\n",
       "0.922481         4\n",
       "0.944954         2\n",
       "1.000000         1\n",
       "0.937984         1\n",
       "0.954545         1\n",
       "0.945312         1\n",
       "Name: discount, dtype: int64"
      ]
     },
     "execution_count": 176,
     "metadata": {},
     "output_type": "execute_result"
    }
   ],
   "source": [
    "churn_df['discount'].value_counts()"
   ]
  },
  {
   "cell_type": "code",
   "execution_count": 264,
   "metadata": {},
   "outputs": [
    {
     "name": "stdout",
     "output_type": "stream",
     "text": [
      "              subs       revenue lift_from_no_offer\n",
      "no_offer     38962   184457.7966                0.0\n",
      "logit_offer  46313  213989.88657           0.160102\n",
      "lpm_offer    46190  213490.41792           0.157394\n"
     ]
    },
    {
     "data": {
      "text/plain": [
       "<matplotlib.legend.Legend at 0x7fc7c43908b0>"
      ]
     },
     "execution_count": 264,
     "metadata": {},
     "output_type": "execute_result"
    },
    {
     "data": {
      "image/png": "[encoded data removed]",
      "text/plain": [
       "<Figure size 432x288 with 1 Axes>"
      ]
     },
     "metadata": {
      "needs_background": "light"
     },
     "output_type": "display_data"
    },
    {
     "data": {
      "image/png": "[encoded data removed]",
      "text/plain": [
       "<Figure size 432x288 with 1 Axes>"
      ]
     },
     "metadata": {
      "needs_background": "light"
     },
     "output_type": "display_data"
    },
    {
     "data": {
      "image/png": "[encoded data removed]",
      "text/plain": [
       "<Figure size 432x288 with 1 Axes>"
      ]
     },
     "metadata": {
      "needs_background": "light"
     },
     "output_type": "display_data"
    }
   ],
   "source": [
    "# ----- TEST RETENTION OFFER SCENARIOS -----\n",
    "# evaluate the impact of an offer\n",
    "acceptance_rate_nonchurn = 1\n",
    "acceptance_rate_churn = 0.3\n",
    "threshold = 0.5\n",
    "base_price = churn_df['monthly_price'].median()\n",
    "discount_amount = 0.1\n",
    "cases = ['no_offer', 'logit_offer', 'lpm_offer']\n",
    "# draw whether individual would accept an offer or not - assume probability of acceptance is independent of offer attractiveness\n",
    "churn_df_test['random_draws'] = np.random.random(churn_df_test.shape[0])\n",
    "\n",
    "# base assessment\n",
    "df_test, df_impact = apply_offers(churn_df_test, threshold, base_price, discount_amount, cases, acceptance_rate_churn, acceptance_rate_nonchurn)\n",
    "\n",
    "print(df_impact)\n",
    "\n",
    "# test sensitivity to thresholds\n",
    "df_lift_threshold = pd.DataFrame(index=range(0, 100, 1), columns=['threshold'] + cases)\n",
    "for t_ind in df_lift_threshold.index:\n",
    "    t_threshold = t_ind / 100\n",
    "    _, t_df_impact = apply_offers(df_test, t_threshold, base_price, discount_amount, cases, acceptance_rate_churn, acceptance_rate_nonchurn)\n",
    "\n",
    "    df_lift_threshold.loc[t_ind, 'threshold'] = t_threshold\n",
    "    df_lift_threshold.loc[t_ind, cases] = t_df_impact.loc[cases, 'lift_from_no_offer']\n",
    "del t_df_impact, t_threshold, t_ind\n",
    "\n",
    "# test sensitivity to acceptance rate for churners\n",
    "df_lift_acceptance_rate_churn = pd.DataFrame(index=range(0, 100, 1), columns=['acceptance_rate_churn'] + cases)\n",
    "for t_ind in df_lift_acceptance_rate_churn.index:\n",
    "    t_acceptance_rate_churn = t_ind / 100\n",
    "    _, t_df_impact = apply_offers(df_test, threshold, base_price, discount_amount, cases, t_acceptance_rate_churn, acceptance_rate_nonchurn)\n",
    "\n",
    "    df_lift_acceptance_rate_churn.loc[t_ind, 'acceptance_rate_churn'] = t_acceptance_rate_churn\n",
    "    df_lift_acceptance_rate_churn.loc[t_ind, cases] = t_df_impact.loc[cases, 'lift_from_no_offer']\n",
    "del t_df_impact, t_acceptance_rate_churn, t_ind\n",
    "\n",
    "\n",
    "# test sensitivity to offer discount amount\n",
    "df_lift_discount_amount = pd.DataFrame(index=range(0, 100, 1), columns=['discount_amount'] + cases)\n",
    "for t_ind in df_lift_discount_amount.index:\n",
    "    t_discount_amount = t_ind / 100\n",
    "    _, t_df_impact = apply_offers(df_test, threshold, base_price, t_discount_amount, cases, acceptance_rate_churn, acceptance_rate_nonchurn)\n",
    "\n",
    "    df_lift_discount_amount.loc[t_ind, 'discount_amount'] = t_discount_amount\n",
    "    df_lift_discount_amount.loc[t_ind, cases] = t_df_impact.loc[cases, 'lift_from_no_offer']\n",
    "del t_df_impact, t_discount_amount, t_ind\n",
    " # --- plot lift curves\n",
    "# Threshold sensitivity\n",
    "fig = plt.figure()\n",
    "ax1 = plt.gca()\n",
    "ax1.plot(df_lift_threshold['threshold'], df_lift_threshold['lpm_offer'], 'b-')\n",
    "ax1.plot(df_lift_threshold['threshold'], df_lift_threshold['logit_offer'], 'r-')\n",
    "plt.title('Lift curves')\n",
    "plt.xlabel('Threshold probability for predicting customer churns')\n",
    "plt.ylabel('Revenue lift from base scenario of making no retention offer')\n",
    "plt.legend(labels=['Linear probability model', 'Logit probability'])\n",
    "\n",
    "# Acceptance rate sensitivity\n",
    "fig = plt.figure()\n",
    "ax1 = plt.gca()\n",
    "ax1.plot(df_lift_acceptance_rate_churn['acceptance_rate_churn'], df_lift_acceptance_rate_churn['lpm_offer'], 'b-')\n",
    "ax1.plot(df_lift_acceptance_rate_churn['acceptance_rate_churn'], df_lift_acceptance_rate_churn['logit_offer'], 'r-')\n",
    "plt.title('Lift curves')\n",
    "plt.xlabel('Offer acceptance rate for those who would churn')\n",
    "plt.ylabel('Revenue lift from base scenario of making no retention offer')\n",
    "plt.legend(labels=['Linear probabildf_testity model', 'Logit probability'])\n",
    "\n",
    "# Discount amount sensitivity\n",
    "fig = plt.figure()\n",
    "ax1 = plt.gca()\n",
    "ax1.plot(df_lift_discount_amount['discount_amount'], df_lift_discount_amount['lpm_offer'], 'b-')\n",
    "ax1.plot(df_lift_discount_amount['discount_amount'], df_lift_discount_amount['logit_offer'], 'r-')\n",
    "plt.title('Lift curves')\n",
    "plt.xlabel('Offer discount amount')\n",
    "plt.ylabel('Revenue lift from base scenario of making no retention offer')\n",
    "plt.legend(labels=['Linear probability model', 'Logit probability'])"
   ]
  },
  {
   "cell_type": "code",
   "execution_count": 270,
   "metadata": {},
   "outputs": [
    {
     "name": "stdout",
     "output_type": "stream",
     "text": [
      "              subs        revenue lift_from_no_offer\n",
      "no_offer     38962    184457.7966                0.0\n",
      "logit_offer  49229   221979.49125           0.203416\n",
      "lpm_offer    49591  222029.438115           0.203687\n"
     ]
    }
   ],
   "source": [
    "# ----- TEST RETENTION OFFER SCENARIOS -----\n",
    "# evaluate the impact of an offer\n",
    "acceptance_rate_nonchurn = 1\n",
    "acceptance_rate_churn = 0.4\n",
    "threshold = 0.4\n",
    "base_price = churn_df['monthly_price'].median()\n",
    "discount_amount = 0.15\n",
    "cases = ['no_offer', 'logit_offer', 'lpm_offer']\n",
    "# draw whether individual would accept an offer or not - assume probability of acceptance is independent of offer attractiveness\n",
    "churn_df_test['random_draws'] = np.random.random(churn_df_test.shape[0])\n",
    "\n",
    "# base assessment\n",
    "df_test, df_impact = apply_offers(churn_df_test, threshold, base_price, discount_amount, cases, acceptance_rate_churn, acceptance_rate_nonchurn)\n",
    "\n",
    "print(df_impact)\n",
    "\n",
    "# test sensitivity to thresholds\n",
    "df_lift_threshold = pd.DataFrame(index=range(0, 100, 1), columns=['threshold'] + cases)\n",
    "for t_ind in df_lift_threshold.index:\n",
    "    t_threshold = t_ind / 100\n",
    "    _, t_df_impact = apply_offers(df_test, t_threshold, base_price, discount_amount, cases, acceptance_rate_churn, acceptance_rate_nonchurn)\n",
    "\n",
    "    df_lift_threshold.loc[t_ind, 'threshold'] = t_threshold\n",
    "    df_lift_threshold.loc[t_ind, cases] = t_df_impact.loc[cases, 'lift_from_no_offer']\n",
    "del t_df_impact, t_threshold, t_ind\n",
    "\n",
    "# test sensitivity to acceptance rate for churners\n",
    "df_lift_acceptance_rate_churn = pd.DataFrame(index=range(0, 100, 1), columns=['acceptance_rate_churn'] + cases)\n",
    "for t_ind in df_lift_acceptance_rate_churn.index:\n",
    "    t_acceptance_rate_churn = t_ind / 100\n",
    "    _, t_df_impact = apply_offers(df_test, threshold, base_price, discount_amount, cases, t_acceptance_rate_churn, acceptance_rate_nonchurn)\n",
    "\n",
    "    df_lift_acceptance_rate_churn.loc[t_ind, 'acceptance_rate_churn'] = t_acceptance_rate_churn\n",
    "    df_lift_acceptance_rate_churn.loc[t_ind, cases] = t_df_impact.loc[cases, 'lift_from_no_offer']\n",
    "del t_df_impact, t_acceptance_rate_churn, t_ind\n",
    "\n",
    "\n",
    "# test sensitivity to offer discount amount\n",
    "df_lift_discount_amount = pd.DataFrame(index=range(0, 100, 1), columns=['discount_amount'] + cases)\n",
    "for t_ind in df_lift_discount_amount.index:\n",
    "    t_discount_amount = t_ind / 100\n",
    "    _, t_df_impact = apply_offers(df_test, threshold, base_price, t_discount_amount, cases, acceptance_rate_churn, acceptance_rate_nonchurn)\n",
    "\n",
    "    df_lift_discount_amount.loc[t_ind, 'discount_amount'] = t_discount_amount\n",
    "    df_lift_discount_amount.loc[t_ind, cases] = t_df_impact.loc[cases, 'lift_from_no_offer']\n",
    "del t_df_impact, t_discount_amount, t_ind\n",
    " # --- plot lift curves\n",
    "# Threshold sensitivity\n",
    "# fig = plt.figure()\n",
    "# ax1 = plt.gca()\n",
    "# ax1.plot(df_lift_threshold['threshold'], df_lift_threshold['lpm_offer'], 'b-')\n",
    "# ax1.plot(df_lift_threshold['threshold'], df_lift_threshold['logit_offer'], 'r-')\n",
    "# plt.title('Lift curves')\n",
    "# plt.xlabel('Threshold probability for predicting customer churns')\n",
    "# plt.ylabel('Revenue lift from base scenario of making no retention offer')\n",
    "# plt.legend(labels=['Linear probability model', 'Logit probability'])\n",
    "\n",
    "# # Acceptance rate sensitivity\n",
    "# fig = plt.figure()\n",
    "# ax1 = plt.gca()\n",
    "# ax1.plot(df_lift_acceptance_rate_churn['acceptance_rate_churn'], df_lift_acceptance_rate_churn['lpm_offer'], 'b-')\n",
    "# ax1.plot(df_lift_acceptance_rate_churn['acceptance_rate_churn'], df_lift_acceptance_rate_churn['logit_offer'], 'r-')\n",
    "# plt.title('Lift curves')\n",
    "# plt.xlabel('Offer acceptance rate for those who would churn')\n",
    "# plt.ylabel('Revenue lift from base scenario of making no retention offer')\n",
    "# plt.legend(labels=['Linear probabildf_testity model', 'Logit probability'])\n",
    "\n",
    "# # Discount amount sensitivity\n",
    "# fig = plt.figure()\n",
    "# ax1 = plt.gca()\n",
    "# ax1.plot(df_lift_discount_amount['discount_amount'], df_lift_discount_amount['lpm_offer'], 'b-')\n",
    "# ax1.plot(df_lift_discount_amount['discount_amount'], df_lift_discount_amount['logit_offer'], 'r-')\n",
    "# plt.title('Lift curves')\n",
    "# plt.xlabel('Offer discount amount')\n",
    "# plt.ylabel('Revenue lift from base scenario of making no retention offer')\n",
    "# plt.legend(labels=['Linear probability model', 'Logit probability'])"
   ]
  }
 ],
 "metadata": {
  "kernelspec": {
   "display_name": "base",
   "language": "python",
   "name": "python3"
  },
  "language_info": {
   "codemirror_mode": {
    "name": "ipython",
    "version": 3
   },
   "file_extension": ".py",
   "mimetype": "text/x-python",
   "name": "python",
   "nbconvert_exporter": "python",
   "pygments_lexer": "ipython3",
   "version": "3.8.5"
  },
  "orig_nbformat": 4,
  "vscode": {
   "interpreter": {
    "hash": "37b10444f193a8f10eb4bf8eacdf7fb9366041c886ba5adcf24f64d5a8d0c4ac"
   }
  }
 },
 "nbformat": 4,
 "nbformat_minor": 2
}
